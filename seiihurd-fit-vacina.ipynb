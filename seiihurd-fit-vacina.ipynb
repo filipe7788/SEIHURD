{
 "cells": [
  {
   "cell_type": "markdown",
   "metadata": {},
   "source": [
    "# Importando bibliotecas utilizadas"
   ]
  },
  {
   "cell_type": "code",
   "execution_count": 62,
   "metadata": {},
   "outputs": [],
   "source": [
    "# Usado pra manipulação numérica\n",
    "import numpy as np\n",
    "from IPython.display import clear_output\n",
    "\n",
    "# Usado pra manipulação de listas como dataframes\n",
    "import pandas as pd\n",
    "\n",
    "# Usado pra plot de gráficos\n",
    "import matplotlib.pyplot as pl\n",
    "\n",
    "# Usado pra integração numérica com o método runge-kutta de 4 ordem\n",
    "from scipy.integrate import odeint\n",
    "\n",
    "# Usado pra calculo dos minimos quadrados\n",
    "from scipy.optimize import least_squares\n",
    "\n",
    "# Usado pra achar número aleatório\n",
    "import random"
   ]
  },
  {
   "cell_type": "markdown",
   "metadata": {},
   "source": [
    "# Importação de dados utilizados"
   ]
  },
  {
   "cell_type": "code",
   "execution_count": 63,
   "metadata": {},
   "outputs": [],
   "source": [
    "# Dados a partir de 2021 - com vacinados a serem usados no modelo\n",
    "Dados = pd.read_csv('dados/Dados_novos_BAHIA.csv')\n",
    "\n",
    "# Pegando coluna Vacinados do arquivo e preenchendo valores vazios com 0 usando o método fillna\n",
    "vacinados_dados = Dados['Vacinados'].fillna(0)\n",
    "\n",
    "# Dados a partir de 2020 - só com casos e mortes e a query limita os valores pra depois de 21/10/2020\n",
    "mortes = pd.read_csv('dados/estado.csv').query(\"date >= '2021-01-01'\").deaths.values"
   ]
  },
  {
   "cell_type": "markdown",
   "metadata": {},
   "source": [
    "# Fazendo média móvel de vacinados"
   ]
  },
  {
   "cell_type": "code",
   "execution_count": 64,
   "metadata": {},
   "outputs": [],
   "source": [
    "vacinados_dados_aux = np.copy(vacinados_dados)\n",
    "for i in range(1,len(vacinados_dados_aux)):\n",
    "    diff = vacinados_dados_aux[i] - vacinados_dados_aux[i-1]\n",
    "    if diff < 0:\n",
    "        vacinados_dados_aux[i-1] = vacinados_dados_aux[i]\n",
    "\n",
    "novos_vacinados = np.diff(vacinados_dados_aux)\n",
    "novos_vacinados = novos_vacinados.tolist()\n",
    "\n",
    "# for i in range(72):\n",
    "#     novos_vacinados.insert(0, 0)"
   ]
  },
  {
   "cell_type": "markdown",
   "metadata": {},
   "source": [
    "# Importando PSI"
   ]
  },
  {
   "cell_type": "code",
   "execution_count": 65,
   "metadata": {},
   "outputs": [
    {
     "data": {
      "text/plain": [
       "[0]"
      ]
     },
     "execution_count": 65,
     "metadata": {},
     "output_type": "execute_result"
    }
   ],
   "source": [
    "Psi = pd.read_csv('dados/Psi.csv')\n",
    "npd = len(Psi)\n",
    "\n",
    "Nfo = 8\n",
    "Psi = Psi.values\n",
    "Psif = [[0]]*npd\n",
    "\n",
    "for k in range(1, npd):\n",
    "    if (k-Nfo) < 0 :\n",
    "        Psif[k] = 1/k*sum(Psi[0:k])\n",
    "    else:\n",
    "        Psif[k] = 1/Nfo*sum(Psi[k-Nfo:k])\n",
    "\n",
    "Psif.pop(0)"
   ]
  },
  {
   "cell_type": "markdown",
   "metadata": {},
   "source": [
    "# Definindo o modelo"
   ]
  },
  {
   "cell_type": "code",
   "execution_count": 66,
   "metadata": {},
   "outputs": [],
   "source": [
    "def SEIIHURD(y,t, args):\n",
    "    k = 1/4\n",
    "    gamma_a = 1/3.5\n",
    "    gamma_s = 1/4\n",
    "    gamma_h = 0.18\n",
    "    gamma_u = 0.13342706158133355\n",
    "    mi_u = 0.4\n",
    "    qsi = 0.53\n",
    "    h = 0.06\n",
    "    h_v = 0\n",
    "    mi_h = 0.15\n",
    "    ome_h = 0.14\n",
    "    ome_u = 0.29\n",
    "    delta = 0.31\n",
    "    p = 0.2\n",
    "    \n",
    "    # Utilizando betas e tempos do método dos minimos quadrados\n",
    "    beta0, beta1, beta2, beta3, beta4, t1, t2, t3, t4 = args\n",
    "\n",
    "    # Utilizando os betas em diferentes tempos\n",
    "    if t<t1:\n",
    "        beta=beta0    \n",
    "    elif (t>=t1) and (t < t2):\n",
    "        beta=beta1\n",
    "    elif (t>=t2) and (t < t3):\n",
    "        beta=beta2\n",
    "    elif t>=t3 and (t < t4):\n",
    "        beta=beta3\n",
    "    elif t>=t4:\n",
    "        beta=beta4\n",
    "    \n",
    "    beta_v = beta/2\n",
    "    \n",
    "    delta_av = 0.31\n",
    "    delta_sv = 0.31\n",
    "    phi_e = 0.8\n",
    "    k_v=1/3\n",
    "    p_v = 0.1\n",
    "    gamma_av = 1/3.5\n",
    "    gamma_sv = 1/4\n",
    "    gamma_vu=0.26\n",
    "    qsi_v = 0.99\n",
    "    eps=0.7\n",
    "    mi_vh=0.03\n",
    "    mi_vu=0.25\n",
    "    gamma_vh=0.08\n",
    "\n",
    "    tau= 1/10000#novos_vacinados[int(t)]/14930634\n",
    "         \n",
    "    N=1#############\n",
    "    #N=14930634#########\n",
    "    psi= .5#Psif[int(t)]\n",
    "    S=y[0]\n",
    "    E=y[1]\n",
    "    V=y[2]\n",
    "    Sv=y[3]\n",
    "    Ev=y[4]\n",
    "    Ia=y[5]\n",
    "    Is=y[6]\n",
    "    Iav=y[7]\n",
    "    Isv=y[8]\n",
    "    H=y[9]\n",
    "    Hv=y[10]\n",
    "    U=y[11]\n",
    "    Uv=y[12]\n",
    "    R=y[13]\n",
    "    Rv=y[14]\n",
    "    D=y[15]\n",
    "    Nw=y[16]\n",
    "    NwV=y[17]\n",
    "\n",
    "    dSdt = (-(1-psi)*beta*S*(Is+delta*Ia+delta_av*Iav+delta_sv*Isv)) - tau/N\n",
    "    dEdt = ((1-psi)*beta*S*(Is+delta*Ia+delta_av*Iav+delta_sv*Isv)) - k*E\n",
    "    dVdt = tau/N - phi_e*V - ((1-psi)*beta*V*(Is+delta*Ia+delta_av*Iav+delta_sv*Isv))\n",
    "    dSvdt =  phi_e*(1-eps)*V - ((1-psi)*beta_v*Sv*(Is+delta*Ia+delta_av*Iav+delta_sv*Isv)) #- phi_e*eps*Sv\n",
    "    dEvdt = ((1-psi)*beta_v*Sv*(Is+delta*Ia+delta_av*Iav+delta_sv*Isv)) - k_v*Ev\n",
    "    dIadt = (1-p)*k*E - gamma_a*Ia\n",
    "    dIsdt = p*k*E - gamma_s*Is\n",
    "    dIavdt = (1-p_v)*k_v*Ev - gamma_av*Iav\n",
    "    dIsvdt = p_v*k_v*Ev - gamma_sv*Isv   \n",
    "    dHdt = h*qsi*gamma_s*Is + (1-mi_u+ome_u*mi_u)*gamma_u*U - gamma_h*H   \n",
    "    dHvdt = h_v*qsi_v*gamma_sv*Isv + (1-mi_vu+ome_u*mi_vu)*gamma_vu*Uv - gamma_vh*Hv    \n",
    "    dUdt = h*(1-qsi)*gamma_s*Is + ome_h*gamma_h*H - gamma_u*U\n",
    "    dUvdt = h_v*(1-qsi_v)*gamma_sv*Isv + ome_h*gamma_vh*Hv - gamma_u*Uv\n",
    "    dRdt = gamma_a*Ia + (1-h)*gamma_s*Is + (1-mi_h)*(1-ome_h)*gamma_h*H\n",
    "    dRvdt = gamma_av*Iav + (1-h_v)*gamma_sv*Isv + (1-mi_vh)*(1-ome_h)*(gamma_vh*Hv) + phi_e*eps*V\n",
    "    dDdt = (1-ome_h)*(mi_h*gamma_h*H +mi_vh*gamma_vh*Hv) + (1-ome_u)*(mi_u*gamma_u*U+mi_vu*gamma_vu*Uv)\n",
    "    dNwdt = p*k*E + p_v*k_v*Ev\n",
    "    dNwVdt = tau/N\n",
    "        \n",
    "    return [dSdt, dEdt, dVdt, dSvdt, dEvdt, dIadt, dIsdt, dIavdt, dIsvdt, dHdt, dHvdt, dUdt, dUvdt, dRdt, \n",
    "            dRvdt, dDdt, dNwdt, dNwVdt]"
   ]
  },
  {
   "cell_type": "markdown",
   "metadata": {},
   "source": [
    "## Método dos mínimos quadrados aplicado ao SEIIHURD"
   ]
  },
  {
   "cell_type": "code",
   "execution_count": 67,
   "metadata": {},
   "outputs": [],
   "source": [
    "def lq_SIR(pars, data, tempo, q0):\n",
    "    mortos_dados = data\n",
    "    \n",
    "    beta0, beta1, beta2, beta3, beta4, tempo1, tempo2, tempo3, tempo4 = pars\n",
    "\n",
    "    # Parametros usados\n",
    "    parode = beta0, beta1, beta2, beta3, beta4, tempo1, tempo2, tempo3, tempo4\n",
    "\n",
    "    # Integrar númericamente usando os parametros\n",
    "    qs = odeint(SEIIHURD, q0, tempo, args=(parode,), mxstep=1000000)\n",
    "    \n",
    "    novos_mortos = np.diff(qs[:,-3])*14930634\n",
    "    #define the standardized residuals\n",
    "    errMortos = (novos_mortos - mortos_dados) / np.sqrt(novos_mortos+1)\n",
    "\n",
    "    return np.r_[errMortos] "
   ]
  },
  {
   "cell_type": "markdown",
   "metadata": {},
   "source": [
    "## Definição de intervalos utilizados no fit"
   ]
  },
  {
   "cell_type": "code",
   "execution_count": 68,
   "metadata": {},
   "outputs": [],
   "source": [
    "range_do_beta = [0, 5.]\n",
    "primeiro_tempo = [0, 80]\n",
    "segundo_tempo = [80, 120]\n",
    "terceiro_tempo = [120, 250]\n",
    "quarto_tempo = [250, 400]\n",
    "\n",
    "intervalos = np.array([\n",
    "    range_do_beta, \n",
    "    range_do_beta.copy(), \n",
    "    range_do_beta.copy(), \n",
    "    range_do_beta.copy(), \n",
    "    range_do_beta.copy(),\n",
    "    primeiro_tempo,\n",
    "    segundo_tempo, \n",
    "    terceiro_tempo, \n",
    "    quarto_tempo\n",
    "])"
   ]
  },
  {
   "cell_type": "markdown",
   "metadata": {},
   "source": [
    "# Método de busca do melhor fit"
   ]
  },
  {
   "cell_type": "code",
   "execution_count": 69,
   "metadata": {},
   "outputs": [],
   "source": [
    "def Best_Fit(data, n_tries, tempo, q0):\n",
    "    #NUMBER OF FITS\n",
    "    #best error starts at inft \n",
    "    best_err = np.inf\n",
    "    #aj the number of best fists \n",
    "    aj = 0\n",
    "\n",
    "    for i in range(n_tries):\n",
    "        clear_output(wait=True)\n",
    "\n",
    "        #create a set of parameters in the interval\n",
    "        par0 = np.random.rand(len(intervalos))\n",
    "        par0 = intervalos[:,0] + par0 * (intervalos[:,1] - intervalos[:,0])\n",
    "        #try to fit\n",
    "\n",
    "        # try:\n",
    "        print(\"estamos em\", i)\n",
    "        res = least_squares(\n",
    "            lambda pars: lq_SIR(pars,data, tempo, q0), \n",
    "            par0, \n",
    "            bounds=(intervalos[:,0],\\\n",
    "                    intervalos[:,1]))\n",
    "        ier = res.status\n",
    "        #if converges\n",
    "        if ier >= 1 and ier <= 4:\n",
    "            if res.cost < best_err:\n",
    "                #best_err = erro\n",
    "                best_err = res.cost\n",
    "                #best_pop = parametro\n",
    "                best_pop = res.x\n",
    "                #+1 best fit\n",
    "                aj = aj +1\n",
    "                print('achou',aj)\n",
    "        # except:\n",
    "        #     pass\n",
    "\n",
    "\n",
    "    return best_pop"
   ]
  },
  {
   "cell_type": "markdown",
   "metadata": {},
   "source": [
    "# Definindo valores iniciais"
   ]
  },
  {
   "cell_type": "code",
   "execution_count": 70,
   "metadata": {},
   "outputs": [],
   "source": [
    "condicoes_iniciais = [\n",
    "    0.8002151436282163 ,\n",
    "    0.0023662791892471815,\n",
    "    0,\n",
    "    0,\n",
    "    0,\n",
    "    0.0015491725384642486,\n",
    "    0.0004385474858925033,\n",
    "    0,\n",
    "    0,\n",
    "    3.0058880370174367e-05,\n",
    "    0.0,\n",
    "    2.5542546092586197e-05,\n",
    "    0.0,\n",
    "    0.15650499264821266,\n",
    "    0,\n",
    "    9159/14930634,\n",
    "    0.03581418879497971,\n",
    "    0\n",
    "]"
   ]
  },
  {
   "cell_type": "markdown",
   "metadata": {},
   "source": [
    "# Chamando Melhor Fit"
   ]
  },
  {
   "cell_type": "code",
   "execution_count": 71,
   "metadata": {},
   "outputs": [
    {
     "name": "stdout",
     "output_type": "stream",
     "text": [
      "estamos em 4\n"
     ]
    }
   ],
   "source": [
    "# Número total estimado de habitantes da bahia \n",
    "N = 14930634\n",
    "\n",
    "numero_de_tentativas = 5 #Quanto maior mais certeza do resultado. Colocar em 100 para roda com mais certeza (Ou até maiws se for necessário)\n",
    "tempo=np.arange(len(mortes))\n",
    "\n",
    "best_pop=Best_Fit(np.diff(mortes), numero_de_tentativas, tempo, condicoes_iniciais)\n",
    "\n",
    "beta0, beta1, beta2, beta3, beta4, t1, t2, t3, t4 = best_pop\n",
    "\n",
    "#parameters\n",
    "parode = [beta0, beta1, beta2, beta3, beta4, t1, t2, t3, t4]\n",
    "\n",
    "#calls integrator\n",
    "resultados = odeint(SEIIHURD, condicoes_iniciais, tempo, args=(parode,), mxstep=1000000)\n",
    "resultados = resultados*N\n",
    "\n",
    "# Salvando resultados: \n",
    "data_frame = pd.DataFrame(parode)\n",
    "data_frame.to_csv('resultados/best_pop.csv')"
   ]
  },
  {
   "cell_type": "markdown",
   "metadata": {},
   "source": [
    "# Plotando curva fitada"
   ]
  },
  {
   "cell_type": "code",
   "execution_count": 72,
   "metadata": {},
   "outputs": [
    {
     "data": {
      "image/png": "[encoded data removed]",
      "text/plain": [
       "<Figure size 1200x800 with 1 Axes>"
      ]
     },
     "metadata": {},
     "output_type": "display_data"
    }
   ],
   "source": [
    "resultado_mortos = resultados[-3]\n",
    "\n",
    "fig, ax = pl.subplots(figsize=(12,8))\n",
    "ax.grid(which='major', axis='both', color='black',linewidth=1.,alpha=0.3)\n",
    "\n",
    "ts0 = np.arange(len(np.diff(mortes)))\n",
    "novos_mortos = np.diff(mortes)\n",
    "novos_mortos_resultado = np.diff(resultado_mortos)\n",
    "\n",
    "# ax.plot(novos_mortos,color='black',zorder=3,label='Reported data')\n",
    "ax.plot(novos_mortos_resultado,color='blue', linewidth=3.5,label='Fitted function')\n",
    "\n",
    "ax.autoscale()\n",
    "pl.show()"
   ]
  }
 ],
 "metadata": {
  "kernelspec": {
   "display_name": "Python 3",
   "language": "python",
   "name": "python3"
  },
  "language_info": {
   "codemirror_mode": {
    "name": "ipython",
    "version": 3
   },
   "file_extension": ".py",
   "mimetype": "text/x-python",
   "name": "python",
   "nbconvert_exporter": "python",
   "pygments_lexer": "ipython3",
   "version": "3.10.7"
  },
  "orig_nbformat": 4,
  "vscode": {
   "interpreter": {
    "hash": "aee8b7b246df8f9039afb4144a1f6fd8d2ca17a180786b69acc140d282b71a49"
   }
  }
 },
 "nbformat": 4,
 "nbformat_minor": 2
}
