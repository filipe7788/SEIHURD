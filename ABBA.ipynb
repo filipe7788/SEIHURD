{
 "cells": [
  {
   "cell_type": "code",
   "execution_count": 15,
   "metadata": {},
   "outputs": [],
   "source": [
    "from sympy import *\n",
    "import numpy as np\n"
   ]
  },
  {
   "cell_type": "code",
   "execution_count": 11,
   "metadata": {},
   "outputs": [],
   "source": [
    "# Declaramos as variáveis u1 e u2 e as armazenamos em uma lista\"Variaveis\" \n",
    "S,E,Sv,Ev,Ia,Is,Iav,Isv,H,Hv,U,Uv,R,Rv,D=symbols('S E S_v E_v I_a I_s I_av I_sv H H_v U U_v R R_v D')\n",
    "Variaveis=[S,E,Sv,Ev,Ia,Is,Iav,Isv,H,Hv,U,Uv,R,Rv,D]\n",
    "\n",
    "# Declaramos cada parâmetro e os armazenamos em uma lista \"Parametros\" \n",
    "beta, k, gamma_a,gamma_s,gamma_h,gamma_u,mi_u,qsi,h,h_v,mi_h,ome_h,ome_u,delta,p,beta_v,delta_av,delta_sv,phi_e,k_v,p_v,gamma_av,gamma_sv,gamma_vu,qsi_v,eps,mi_vh,mi_vu,gamma_vh,tau,N,psi = symbols('beta, kappa gamma_a gamma_s gamma_h gamma_u mu_u qsi h h_v mu_h omega_h omega_u delta p beta_v delta_av delta_sv phi_e kappa_v p_v gamma_av gamma_sv gamma_vu qsi_v eps mi_vh mi_vu gamma_vh tau N psi')\n",
    "Parametros=[beta, k, gamma_a,gamma_s,gamma_h,gamma_u,mi_u,qsi,h,h_v,mi_h,ome_h,ome_u,delta,p,beta_v,delta_av,delta_sv,phi_e,k_v,p_v,gamma_av,gamma_sv,gamma_vu,qsi_v,eps,mi_vh,mi_vu,gamma_vh,tau,N,psi]"
   ]
  },
  {
   "cell_type": "code",
   "execution_count": 12,
   "metadata": {},
   "outputs": [],
   "source": [
    "modelo=[-(1-psi)*beta*S*(Is+delta*Ia+delta_av*Iav+delta_sv*Isv) - tau/N,\n",
    "       (1-psi)*beta*S*(Is+delta*Ia+delta_av*Iav+delta_sv*Isv) - k*E,\n",
    "       tau/N - (1-psi)*beta_v*Sv*(Is+delta*Ia+delta_av*Iav+delta_sv*Isv) - phi_e*eps*Sv,\n",
    "       (1-psi)*beta_v*Sv*(Is+delta*Ia+delta_av*Iav+delta_sv*Isv) - k_v*Ev,\n",
    "       (1-p)*k*E - gamma_a*Ia,\n",
    "       p*k*E - gamma_s*Is,\n",
    "       (1-p_v)*k_v*Ev - gamma_av*Iav,\n",
    "       p_v*k_v*Ev - gamma_sv*Isv,\n",
    "       h*qsi*gamma_s*Is + (1-mi_u+ome_u*mi_u)*gamma_u*U - gamma_h*H,\n",
    "       h_v*qsi_v*gamma_sv*Isv + (1-mi_vu+ome_u*mi_vu)*gamma_vu*Uv - gamma_vu*Hv,\n",
    "       h*(1-qsi)*gamma_s*Is + ome_h*gamma_h*H - gamma_u*U,\n",
    "       h_v*(1-qsi_v)*gamma_sv*Isv + ome_h*gamma_h*Hv - gamma_u*Uv,\n",
    "       gamma_a*Ia + (1-h)*gamma_s*Is + (1-mi_h)*(1-ome_h)*gamma_h*H - phi_e*eps*Sv,\n",
    "       gamma_av*Iav + (1-h)*gamma_sv*Isv + (1-mi_vh)*(1-ome_h)*(gamma_vh*Hv),\n",
    "       (1-ome_h)*(mi_h*gamma_h*H +mi_vh*gamma_vh*Hv) + (1-ome_h)*(mi_u*gamma_u*U+mi_vu*gamma_vu*Uv)]\n",
    "# dSdt+dEdt+dSvdt+dEvdt+dIadt+dIsdt+dIavdt+dIsvdt+dHdt+dHvdt+dUdt+dUvdt+dRdt+dRvdt+dDdt "
   ]
  },
  {
   "cell_type": "code",
   "execution_count": 17,
   "metadata": {},
   "outputs": [
    {
     "data": {
      "text/latex": [
       "$\\displaystyle E \\kappa p + E \\kappa \\left(1 - p\\right) - E \\kappa + E_{v} \\kappa_{v} p_{v} + E_{v} \\kappa_{v} \\left(1 - p_{v}\\right) - E_{v} \\kappa_{v} + H \\gamma_{h} \\omega_{h} + H \\gamma_{h} \\left(1 - \\mu_{h}\\right) \\left(1 - \\omega_{h}\\right) - H \\gamma_{h} + H_{v} \\gamma_{h} \\omega_{h} + H_{v} \\gamma_{vh} \\left(1 - mi_{vh}\\right) \\left(1 - \\omega_{h}\\right) - H_{v} \\gamma_{vu} + I_{s} \\gamma_{s} h qsi + I_{s} \\gamma_{s} h \\left(1 - qsi\\right) + I_{s} \\gamma_{s} \\left(1 - h\\right) - I_{s} \\gamma_{s} + I_{sv} \\gamma_{sv} h_{v} qsi_{v} + I_{sv} \\gamma_{sv} h_{v} \\left(1 - qsi_{v}\\right) + I_{sv} \\gamma_{sv} \\left(1 - h\\right) - I_{sv} \\gamma_{sv} + S \\beta \\left(1 - \\psi\\right) \\left(I_{a} \\delta + I_{av} \\delta_{av} + I_{s} + I_{sv} \\delta_{sv}\\right) + S \\beta \\left(\\psi - 1\\right) \\left(I_{a} \\delta + I_{av} \\delta_{av} + I_{s} + I_{sv} \\delta_{sv}\\right) - 2 S_{v} eps \\phi_{e} + U \\gamma_{u} \\left(\\mu_{u} \\omega_{u} - \\mu_{u} + 1\\right) - U \\gamma_{u} - U_{v} \\gamma_{u} + U_{v} \\gamma_{vu} \\left(mi_{vu} \\omega_{u} - mi_{vu} + 1\\right)$"
      ],
      "text/plain": [
       "E*kappa*p + E*kappa*(1 - p) - E*kappa + E_v*kappa_v*p_v + E_v*kappa_v*(1 - p_v) - E_v*kappa_v + H*gamma_h*omega_h + H*gamma_h*(1 - mu_h)*(1 - omega_h) - H*gamma_h + H_v*gamma_h*omega_h + H_v*gamma_vh*(1 - mi_vh)*(1 - omega_h) - H_v*gamma_vu + I_s*gamma_s*h*qsi + I_s*gamma_s*h*(1 - qsi) + I_s*gamma_s*(1 - h) - I_s*gamma_s + I_sv*gamma_sv*h_v*qsi_v + I_sv*gamma_sv*h_v*(1 - qsi_v) + I_sv*gamma_sv*(1 - h) - I_sv*gamma_sv + S*beta*(1 - psi)*(I_a*delta + I_av*delta_av + I_s + I_sv*delta_sv) + S*beta*(psi - 1)*(I_a*delta + I_av*delta_av + I_s + I_sv*delta_sv) - 2*S_v*eps*phi_e + U*gamma_u*(mu_u*omega_u - mu_u + 1) - U*gamma_u - U_v*gamma_u + U_v*gamma_vu*(mi_vu*omega_u - mi_vu + 1)"
      ]
     },
     "execution_count": 17,
     "metadata": {},
     "output_type": "execute_result"
    }
   ],
   "source": [
    "modelo[0]+modelo[1]+modelo[2]+modelo[3]+modelo[4]+modelo[5]+modelo[6]+modelo[7]+modelo[8]+modelo[9]+modelo[10]+modelo[11]+modelo[12]+modelo[13]"
   ]
  }
 ],
 "metadata": {
  "kernelspec": {
   "display_name": "Python 3",
   "language": "python",
   "name": "python3"
  },
  "language_info": {
   "codemirror_mode": {
    "name": "ipython",
    "version": 3
   },
   "file_extension": ".py",
   "mimetype": "text/x-python",
   "name": "python",
   "nbconvert_exporter": "python",
   "pygments_lexer": "ipython3",
   "version": "3.10.7"
  },
  "vscode": {
   "interpreter": {
    "hash": "aee8b7b246df8f9039afb4144a1f6fd8d2ca17a180786b69acc140d282b71a49"
   }
  }
 },
 "nbformat": 4,
 "nbformat_minor": 4
}
