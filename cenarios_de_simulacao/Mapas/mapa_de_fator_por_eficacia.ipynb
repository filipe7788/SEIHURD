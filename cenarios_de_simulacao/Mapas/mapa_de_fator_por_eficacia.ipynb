{
 "cells": [
  {
   "cell_type": "code",
   "execution_count": 1,
   "metadata": {},
   "outputs": [],
   "source": [
    "import pandas as pd\n",
    "from numpy import *\n",
    "import numpy as np\n",
    "from scipy.integrate import odeint\n",
    "import matplotlib.pyplot as plt\n",
    "import seaborn as sns\n",
    "from matplotlib.ticker import FormatStrFormatter,ScalarFormatter, FuncFormatter\n",
    "import matplotlib.ticker"
   ]
  },
  {
   "attachments": {},
   "cell_type": "markdown",
   "metadata": {},
   "source": [
    "## Import de dados"
   ]
  },
  {
   "cell_type": "code",
   "execution_count": 2,
   "metadata": {},
   "outputs": [],
   "source": [
    "# Dados começam 01/01/2022\n",
    "# Vacinação começa 19/01/2022\n",
    "# fillna(0) substitui todos os valores sem input por 0\n",
    "Dados= pd.read_csv ('../../dados_usados/Dados_novos_BAHIA.csv')\n",
    "vacinados_dados = Dados['Vacinados'].fillna(0)\n",
    "mortos_dados = Dados['Mortos'].fillna(0)\n",
    "casos_dados = Dados['Casos acumulados']\n",
    "datas = Dados[\"datetime\"].fillna(0)"
   ]
  },
  {
   "attachments": {},
   "cell_type": "markdown",
   "metadata": {},
   "source": [
    "## Gerando fator multiplicativo"
   ]
  },
  {
   "cell_type": "code",
   "execution_count": 3,
   "metadata": {},
   "outputs": [
    {
     "data": {
      "text/plain": [
       "0.39093790970791553"
      ]
     },
     "execution_count": 3,
     "metadata": {},
     "output_type": "execute_result"
    }
   ],
   "source": [
    "vacinados_soma = sum(np.diff(vacinados_dados))\n",
    "fator_multiplicacao = 14873064/vacinados_soma\n",
    "fator_multiplicacao = math.fabs(1-fator_multiplicacao)\n",
    "fator_multiplicacao"
   ]
  },
  {
   "attachments": {},
   "cell_type": "markdown",
   "metadata": {},
   "source": [
    "## Modelo"
   ]
  },
  {
   "cell_type": "code",
   "execution_count": 4,
   "metadata": {},
   "outputs": [],
   "source": [
    "def SEIIHURD(y,t, args):\n",
    "\n",
    "    beta0, beta1, beta2,beta3, t1, t2,t3, listau, eficacia = args\n",
    "\n",
    "    if t<t1:\n",
    "        beta=beta0    \n",
    "    elif (t>=t1):\n",
    "        beta=beta1\n",
    "    elif (t>=t2):\n",
    "        beta=beta2\n",
    "    elif t>=t3:\n",
    "        beta=beta3\n",
    "\n",
    "    beta_v = beta/2\n",
    "    \n",
    "    tau = listau[int(t)]\n",
    "    #eps = 0.7 # eficacia da vacina\n",
    "    eps=0\n",
    "    k = 1/4\n",
    "    gamma_a = 1/3.5\n",
    "    gamma_s = 1/4\n",
    "    gamma_h = 0.18\n",
    "    gamma_u = 0.13\n",
    "    mi_u = 0.4\n",
    "    qsi = 0.53 \n",
    "    h = 0.06\n",
    "    h_v = 0.012\n",
    "    mi_h = 0.15\n",
    "    ome_h = 0.14\n",
    "    ome_u = 0.29\n",
    "    delta = 0.31\n",
    "    p = 0.2\n",
    "\n",
    "    # Parametros da vacina    \n",
    "    delta_av = 0.31\n",
    "    delta_sv = 0.31\n",
    "    phi_e = 0.7\n",
    "    k_v=1/3\n",
    "    p_v = 0.1\n",
    "    gamma_av = 1/3.5\n",
    "    gamma_sv = 1/4\n",
    "    gamma_vu=0.26\n",
    "    qsi_v = 0.99\n",
    "    mi_vh=0.03\n",
    "    mi_vu=0.08\n",
    "    gamma_vh=0.36\n",
    "    N=14873064\n",
    "    \n",
    "    psi= 0.5  #Psif[int(t)]\n",
    "    S=y[0]\n",
    "    E=y[1]\n",
    "    V=y[2]\n",
    "    Sv=y[3]\n",
    "    Ev=y[4]\n",
    "    Ia=y[5]\n",
    "    Is=y[6]\n",
    "    Iav=y[7]\n",
    "    Isv=y[8]\n",
    "    H=y[9]\n",
    "    Hv=y[10]\n",
    "    U=y[11]\n",
    "    Uv=y[12]\n",
    "    R=y[13]\n",
    "    Rv=y[14]\n",
    "    D=y[15]\n",
    "    Nw=y[16]\n",
    "    NwV=y[17]\n",
    "\n",
    "    dSdt = (-(1-psi)*beta*S*(Is+delta*Ia+delta_av*Iav+delta_sv*Isv)) - (eficacia)*tau/N\n",
    "    dEdt = ((1-psi)*beta*(S+V)*(Is+delta*Ia+delta_av*Iav+delta_sv*Isv)) - k*E\n",
    "    dVdt = (eficacia)*tau/N - phi_e*V - ((1-psi)*beta*V*(Is+delta*Ia+delta_av*Iav+delta_sv*Isv))\n",
    "    dSvdt =  phi_e*(1-eps)*V - ((1-psi)*beta_v*Sv*(Is+delta*Ia+delta_av*Iav+delta_sv*Isv)) #- phi_e*eps*Sv\n",
    "    dEvdt = ((1-psi)*beta_v*Sv*(Is+delta*Ia+delta_av*Iav+delta_sv*Isv)) - k_v*Ev\n",
    "    dIadt = (1-p)*k*E - gamma_a*Ia\n",
    "    dIsdt = p*k*E - gamma_s*Is\n",
    "    dIavdt = (1-p_v)*k_v*Ev - gamma_av*Iav\n",
    "    dIsvdt = p_v*k_v*Ev - gamma_sv*Isv   \n",
    "    dHdt = h*qsi*gamma_s*Is + (1-mi_u+ome_u*mi_u)*gamma_u*U - gamma_h*H   \n",
    "    dHvdt = h_v*qsi_v*gamma_sv*Isv + (1-mi_vu+ome_u*mi_vu)*gamma_vu*Uv - gamma_vh*Hv    \n",
    "    dUdt = h*(1-qsi)*gamma_s*Is + ome_h*gamma_h*H - gamma_u*U\n",
    "    dUvdt = h_v*(1-qsi_v)*gamma_sv*Isv + ome_h*gamma_vh*Hv - gamma_u*Uv\n",
    "    dRdt = gamma_a*Ia + (1-h)*gamma_s*Is + (1-mi_h)*(1-ome_h)*gamma_h*H\n",
    "    dRvdt = gamma_av*Iav + (1-h_v)*gamma_sv*Isv + (1-mi_vh)*(1-ome_h)*(gamma_vh*Hv) + phi_e*eps*V\n",
    "    dDdt = (1-ome_h)*(mi_h*gamma_h*H +mi_vh*gamma_vh*Hv) + (1-ome_u)*(mi_u*gamma_u*U+mi_vu*gamma_vu*Uv)\n",
    "    dNwdt = p*k*E + p_v*k_v*Ev\n",
    "    dNwVdt = (eficacia)*tau/N\n",
    "        \n",
    "    return [dSdt, dEdt, dVdt, dSvdt, dEvdt, dIadt, dIsdt, dIavdt, dIsvdt, dHdt, dHvdt, dUdt, dUvdt, dRdt, \n",
    "            dRvdt, dDdt, dNwdt, dNwVdt]"
   ]
  },
  {
   "attachments": {},
   "cell_type": "markdown",
   "metadata": {},
   "source": [
    "## Função de adiantamento"
   ]
  },
  {
   "cell_type": "code",
   "execution_count": 5,
   "metadata": {},
   "outputs": [],
   "source": [
    "def vacina_com_adiantamento_em(dias, diminuicao):\n",
    "    vacinados_simulados = []\n",
    "\n",
    "    if dias >= 0:\n",
    "        vacinados_dados_adiantados_inicial = vacinados_dados[dias-diminuicao:]\n",
    "        vacinados_dados_adiantados_inicial = vacinados_dados_adiantados_inicial.tolist()\n",
    "        for item in range(dias-diminuicao):\n",
    "            vacinados_dados_adiantados_inicial.append(0)\n",
    "\n",
    "        vacinados_dados_aux_inicial =  copy(vacinados_dados_adiantados_inicial)\n",
    "        # Diffs menores que 0 serão substituidos pela repetição do valor anterior, tornando todo valor igual ou maior que o anterior\n",
    "        for i in range(1,len(vacinados_dados_aux_inicial)):\n",
    "            diff = vacinados_dados_aux_inicial[i] - vacinados_dados_aux_inicial[i-1]\n",
    "            if diff < 0:\n",
    "                vacinados_dados_aux_inicial[i-1] = vacinados_dados_aux_inicial[i]\n",
    "\n",
    "        novos_vacinados_adiantados_inicial =  np.diff(vacinados_dados_aux_inicial)\n",
    "        novos_vacinados_adiantados_inicial = novos_vacinados_adiantados_inicial.tolist()\n",
    "        vacinados_simulados = novos_vacinados_adiantados_inicial\n",
    "        \n",
    "    elif dias < 0:\n",
    "\n",
    "        lista_de_zeros = np.zeros(abs(dias), dtype=int)   \n",
    "        vacinados_atrasados_em_dias = np.append(lista_de_zeros, vacinados_dados)\n",
    "\n",
    "        vacinados_atrasados_em_dias = vacinados_atrasados_em_dias[:len(vacinados_dados)]\n",
    "        \n",
    "        vacinados_dados_aux_inicial =  copy(vacinados_atrasados_em_dias)\n",
    "        # Diffs menores que 0 serão substituidos pela repetição do valor anterior, tornando todo valor igual ou maior que o anterior\n",
    "        for i in range(1,len(vacinados_dados_aux_inicial)):\n",
    "            diff = vacinados_dados_aux_inicial[i] - vacinados_dados_aux_inicial[i-1]\n",
    "            if diff < 0:\n",
    "                vacinados_dados_aux_inicial[i-1] = vacinados_dados_aux_inicial[i]\n",
    "\n",
    "        novos_vacinados_adiantados_inicial =  np.diff(vacinados_dados_aux_inicial)\n",
    "        novos_vacinados_adiantados_inicial = novos_vacinados_adiantados_inicial.tolist()\n",
    "        vacinados_simulados = novos_vacinados_adiantados_inicial  \n",
    "          \n",
    "    return np.array(vacinados_simulados)"
   ]
  },
  {
   "attachments": {},
   "cell_type": "markdown",
   "metadata": {},
   "source": [
    "### Função de condições iniciais"
   ]
  },
  {
   "cell_type": "code",
   "execution_count": 6,
   "metadata": {},
   "outputs": [],
   "source": [
    "def novas_condicoes_iniciais(listau):\n",
    "    return [\n",
    "    0.8002151436282163,\n",
    "    0.0023662791892471815,\n",
    "    listau[0]/14873064,\n",
    "    0,\n",
    "    0,\n",
    "    0.0015491725384642486,\n",
    "    0.0004385474858925033,\n",
    "    0,\n",
    "    0,\n",
    "    3.0058880370174367e-05,\n",
    "    0.0,\n",
    "    2.5542546092586197e-05,\n",
    "    0.0,\n",
    "    0.15650499264821266,\n",
    "    0,\n",
    "    9159/14873064,\n",
    "    0.03581418879497971,\n",
    "    0\n",
    "]"
   ]
  },
  {
   "attachments": {},
   "cell_type": "markdown",
   "metadata": {},
   "source": [
    "## Integrando todas as situações"
   ]
  },
  {
   "cell_type": "code",
   "execution_count": 7,
   "metadata": {},
   "outputs": [],
   "source": [
    "\n",
    "ultimoItemDasListasDeSituacoesComMorte = []\n",
    "ultimoItemDasListasDeSituacoesComCasos = []\n",
    "\n",
    "lista_de_fator_multiplicacao = np.arange(0, fator_multiplicacao, 0.01)\n",
    "lista_de_eficacias = np.arange(0, 1, .1)\n",
    "\n",
    "for j in lista_de_fator_multiplicacao:\n",
    "       for i in lista_de_eficacias:\n",
    "              adiantamento = vacina_com_adiantamento_em(0, 0)\n",
    "\n",
    "              ts0 =  np.arange(len(adiantamento)-5)\n",
    "              listau = adiantamento+adiantamento*j\n",
    "              condicoes_iniciais_atualizadas = novas_condicoes_iniciais(listau)\n",
    "\n",
    "              parode = [1.90221545,   3.76585085,   2.14629225,   3.27760444,\n",
    "              126.48480189, 172.97799643, 288.57269974, listau, i]  \n",
    "              \n",
    "              resultado = odeint(SEIIHURD, condicoes_iniciais_atualizadas, ts0, args=(parode,), mxstep=1000000)\n",
    "              \n",
    "              mortosDaSituacao = resultado[:,-3]\n",
    "              casosDaSituacao = resultado[:,-2]\n",
    "\n",
    "              if len(mortosDaSituacao) != 0:\n",
    "                     ultimoItemDasListasDeSituacoesComMorte.append(mortosDaSituacao[-1])\n",
    "              if len(casosDaSituacao) != 0:\n",
    "                     ultimoItemDasListasDeSituacoesComCasos.append(casosDaSituacao[-1])"
   ]
  },
  {
   "cell_type": "code",
   "execution_count": 8,
   "metadata": {},
   "outputs": [],
   "source": [
    "matriz = np.array(ultimoItemDasListasDeSituacoesComMorte).reshape((len(lista_de_fator_multiplicacao),len(lista_de_eficacias)))\n",
    "matriz = matriz*14873064"
   ]
  },
  {
   "cell_type": "code",
   "execution_count": 9,
   "metadata": {},
   "outputs": [
    {
     "data": {
      "image/png": "[encoded data removed]",
      "text/plain": [
       "<Figure size 640x480 with 2 Axes>"
      ]
     },
     "metadata": {},
     "output_type": "display_data"
    }
   ],
   "source": [
    "fig, ax = plt.subplots()\n",
    "df = pd.DataFrame(data=matriz, columns=lista_de_eficacias, index=lista_de_fator_multiplicacao)\n",
    "sns.heatmap(df, square=False)\n",
    "ax.invert_yaxis()\n",
    "plt.tight_layout()\n",
    "\n",
    "plt.show()"
   ]
  },
  {
   "cell_type": "code",
   "execution_count": 10,
   "metadata": {},
   "outputs": [
    {
     "name": "stdout",
     "output_type": "stream",
     "text": [
      "\n"
     ]
    }
   ],
   "source": [
    "print()"
   ]
  }
 ],
 "metadata": {
  "kernelspec": {
   "display_name": "Python 3",
   "language": "python",
   "name": "python3"
  },
  "language_info": {
   "codemirror_mode": {
    "name": "ipython",
    "version": 3
   },
   "file_extension": ".py",
   "mimetype": "text/x-python",
   "name": "python",
   "nbconvert_exporter": "python",
   "pygments_lexer": "ipython3",
   "version": "3.7.16"
  },
  "orig_nbformat": 4
 },
 "nbformat": 4,
 "nbformat_minor": 2
}
