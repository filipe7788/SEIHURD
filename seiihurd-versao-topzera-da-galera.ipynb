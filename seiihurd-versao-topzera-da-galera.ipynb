{
 "cells": [
  {
   "cell_type": "markdown",
   "metadata": {},
   "source": [
    "# Imports de bibliotecas"
   ]
  },
  {
   "cell_type": "code",
   "execution_count": 188,
   "metadata": {},
   "outputs": [],
   "source": [
    "import numpy as np\n",
    "import pandas as pd\n",
    "import matplotlib.pyplot as pl\n",
    "from scipy.integrate import solve_ivp\n",
    "import matplotlib.pyplot as pl\n",
    "import scipy.io"
   ]
  },
  {
   "cell_type": "markdown",
   "metadata": {},
   "source": [
    "# Importando Arquivos"
   ]
  },
  {
   "cell_type": "code",
   "execution_count": 189,
   "metadata": {},
   "outputs": [],
   "source": [
    "Dados = pd.read_csv ('dados/Dados_novos_BAHIA.csv')\n",
    "\n",
    "Psi = scipy.io.loadmat('dados/Psi_Ba13set.mat')\n",
    "# Pega a lista de itens referentes aos psi do arquivo .mat \n",
    "# no terceiro index do array Psi\n",
    "Psi = list(Psi.values())[3]\n"
   ]
  },
  {
   "cell_type": "markdown",
   "metadata": {},
   "source": [
    "# Média móvel do PSI"
   ]
  },
  {
   "cell_type": "code",
   "execution_count": 190,
   "metadata": {},
   "outputs": [],
   "source": [
    "npd = len(Psi)\n",
    "Nfo = 8\n",
    "\n",
    "Psif = [[0]]*npd\n",
    "\n",
    "for k in range(1, npd):\n",
    "    if (k-Nfo) < 0 :\n",
    "        Psif[k] = 1/k*sum(Psi[0:k])\n",
    "    else:\n",
    "        Psif[k] = 1/Nfo*sum(Psi[k-Nfo:k])\n",
    "\n",
    "Psif.pop(0)\n",
    "Psif = np.concatenate(Psif).ravel().tolist()\n"
   ]
  },
  {
   "cell_type": "markdown",
   "metadata": {},
   "source": [
    "# Separacao de dados"
   ]
  },
  {
   "cell_type": "code",
   "execution_count": 191,
   "metadata": {},
   "outputs": [],
   "source": [
    "casos_dados = Dados['Casos acumulados'].fillna(0)\n",
    "\n",
    "recuperados_dados = Dados['Recuperados'].fillna(0)\n",
    "\n",
    "mortos_dados = Dados['Mortos'].fillna(0)\n",
    "\n",
    "hospitalizados_dados = Dados['Hospitalizados'].fillna(0)\n",
    "\n",
    "uti_dados = Dados['UTI'].fillna(0)\n",
    "\n",
    "vacinados_dados = Dados['Vacinados'].fillna(0)\n",
    "\n",
    "novos_casos = np.diff(casos_dados)\n",
    "novos_mortos = np.diff(mortos_dados)\n",
    "\n",
    "inicio_da_vacinacao = 19\n"
   ]
  },
  {
   "cell_type": "markdown",
   "metadata": {},
   "source": [
    "# Condicoes iniciais"
   ]
  },
  {
   "cell_type": "code",
   "execution_count": 192,
   "metadata": {},
   "outputs": [],
   "source": [
    "D0          = mortos_dados[0] # 9159\n",
    "N0          = 14930634\n",
    "R0          = 478198\n",
    "H0          = hospitalizados_dados[0] # 477\n",
    "HV0         = 0\n",
    "U0          = uti_dados[0] # 737\n",
    "UV0         = 0\n",
    "V0          = vacinados_dados[0] # 0\n",
    "Rv0         = 0\n",
    "Is0         = casos_dados[0]-451240\n",
    "Ia0         = Is0*0.9\n",
    "Iav0        = 0\n",
    "Isv0        = 0 \n",
    "E0          = (518955-casos_dados[0])\n",
    "Ev0         = 0\n",
    "S0          = (14930634-Is0-Ia0-E0)\n",
    "Nw0         = 0\n",
    "NwV0        = 0\n",
    "\n",
    "condicoes_iniciais = [S0,E0,V0,Ev0,Ia0,Is0,Iav0,Isv0,H0,HV0,U0,UV0,R0,Rv0,D0,Nw0,NwV0];"
   ]
  },
  {
   "cell_type": "markdown",
   "metadata": {},
   "source": [
    "# Modelo"
   ]
  },
  {
   "cell_type": "code",
   "execution_count": 193,
   "metadata": {},
   "outputs": [],
   "source": [
    "def seiihurd(t, y):\n",
    "    \n",
    "    N=14930634\n",
    "    psi=Psif[int(t)]\n",
    "    tau=np.diff(vacinados_dados)[int(t)]\n",
    "\n",
    "    k = 1/4\n",
    "    gamma_a = 1/3.5\n",
    "    gamma_s = 1/4\n",
    "    gamma_h = 0.18\n",
    "    gamma_u = 0.13342706158133355\n",
    "    mi_u = 0.4\n",
    "    qsi = 0.53\n",
    "    h = 0.06\n",
    "    h_v = 0\n",
    "    mi_h = 0.15\n",
    "    ome_h = 0.14\n",
    "    ome_u = 0.29\n",
    "    delta = 0.31\n",
    "    p = 0.2\n",
    "    \n",
    "    if t<20.178:\n",
    "        beta=2.1317\n",
    "    elif (t>=20.178-8) and (t < 72.94):\n",
    "        beta=1.7645\n",
    "    elif (t>=72.94) and (t < 148):\n",
    "        beta=1.1281\n",
    "    else:\n",
    "        beta=1;\n",
    "\n",
    "    beta_v = beta*0.5\n",
    "    \n",
    "    if t<19:\n",
    "        delta_av = 0;\n",
    "        delta_sv = 0;\n",
    "        phi_e = 0;\n",
    "        k_v=0;\n",
    "        p_v = 0;\n",
    "        gamma_av = 0;\n",
    "        gamma_sv = 0;\n",
    "        gamma_vu=0;\n",
    "        qsi_v = 0 ;\n",
    "        eps=0;\n",
    "        mi_vh=0;\n",
    "        mi_vu=0;\n",
    "        gamma_vh=0;\n",
    "    else:\n",
    "        delta_av = 0.31;\n",
    "        delta_sv = 0.31;\n",
    "        phi_e = 1/14;\n",
    "        k_v=1/3;\n",
    "        p_v = 0.1;\n",
    "        gamma_av = 1/3.5;\n",
    "        gamma_sv = 1/4;\n",
    "        gamma_vu=0.26;\n",
    "        qsi_v = 0.99;\n",
    "        eps=0.7;\n",
    "        mi_vh=0.03;\n",
    "        mi_vu=0.25;\n",
    "        gamma_vh=0.08;\n",
    "\n",
    "    S=y[0]\n",
    "    E=y[1]\n",
    "    Sv=y[2]\n",
    "    Ev=y[3]\n",
    "    Ia=y[4]\n",
    "    Is=y[5]\n",
    "    Iav=y[6]\n",
    "    Isv=y[7]\n",
    "    H=y[8]\n",
    "    Hv=y[9]\n",
    "    U=y[10]\n",
    "    Uv=y[11]\n",
    "    R=y[12]\n",
    "    Rv=y[13]\n",
    "    D=y[14]\n",
    "    Nw=y[15]\n",
    "    NwV=y[16]\n",
    "\n",
    "    dSdt = -(1-psi)*beta*S*(Is+delta*Ia+delta_av*Iav+delta_sv*Isv)/N - tau/N;\n",
    "    dEdt = (1-psi)*beta*S*(Is+delta*Ia+delta_av*Iav+delta_sv*Isv)/N - k*E;\n",
    "    dSvdt = tau/N - (1-psi)*beta_v*Sv*(Is+delta*Ia+delta_av*Iav+delta_sv*Isv)/N - phi_e*eps*Sv;\n",
    "    dEvdt = (1-psi)*beta_v*Sv*(Is+delta*Ia+delta_av*Iav+delta_sv*Isv)/N - k_v*Ev;\n",
    "    dIadt = (1-p)*k*E - gamma_a*Ia;\n",
    "    dIsdt = p*k*E - gamma_s*Is;\n",
    "    dIavdt = (1-p_v)*k_v*Ev - gamma_av*Iav;\n",
    "    dIsvdt = p_v*k_v*Ev - gamma_sv*Isv;\n",
    "    dHdt = h*qsi*gamma_s*Is + (1-mi_u+ome_u*mi_u)*gamma_u*U - gamma_h*H;\n",
    "    dHvdt = h_v*qsi_v*gamma_sv*Isv + (1-mi_vu+ome_u*mi_vu)*gamma_vu*Uv - gamma_vu*Hv;\n",
    "    dUdt = h*(1-qsi)*gamma_s*Is + ome_h*gamma_h*H - gamma_u*U;\n",
    "    dUvdt = h_v*(1-qsi_v)*gamma_sv*Isv + ome_h*gamma_h*Hv - gamma_u*Uv;\n",
    "    dRdt = gamma_a*Ia + (1-h)*gamma_s*Is + (1-mi_h)*(1-ome_h)*gamma_h*H - phi_e*eps*Sv;\n",
    "    dRvdt = gamma_av*Iav + (1-h)*gamma_sv*Isv + (1-mi_vh)*(1-ome_h)*(gamma_vh*Hv);\n",
    "    dDdt = (1-ome_h)*(mi_h*gamma_h*H +mi_vh*gamma_vh*Hv) + (1-ome_h)*(mi_u*gamma_u*U+mi_vu*gamma_vu*Uv);\n",
    "    dNwdt = p*k*E + p_v*k_v*Ev;\n",
    "    dNwVdt = tau/N;\n",
    "    \n",
    "    return [dSdt, dEdt, dSvdt, dEvdt, dIadt, dIsdt, dIavdt, dIsvdt, dHdt, dHvdt, dUdt, dUvdt, dRdt, dRvdt, dDdt, dNwdt, dNwVdt]\n"
   ]
  },
  {
   "cell_type": "markdown",
   "metadata": {},
   "source": [
    "# Chamando modelo"
   ]
  },
  {
   "cell_type": "code",
   "execution_count": 194,
   "metadata": {},
   "outputs": [],
   "source": [
    "resultados = solve_ivp(seiihurd, [0,192], condicoes_iniciais, method='RK45', t_eval=np.arange(192))\n",
    "resultados_modelo = resultados.y\n",
    "\n",
    "Sm = N0*resultados_modelo[0,:]\n",
    "Em = N0*resultados_modelo[1,:]\n",
    "Svm = N0*resultados_modelo[2,:]\n",
    "Evm = N0*resultados_modelo[3,:]\n",
    "Iam = N0*resultados_modelo[4,:]\n",
    "Ism = N0*resultados_modelo[5,:]\n",
    "Iavm = N0*resultados_modelo[6,:]\n",
    "Isvm = N0*resultados_modelo[7,:]\n",
    "Hm = resultados_modelo[8,:]\n",
    "Hvm = N0*resultados_modelo[9,:]\n",
    "Um = N0*resultados_modelo[10,:]\n",
    "Uvm = N0*resultados_modelo[11,:]\n",
    "Rm = N0*resultados_modelo[12,:]\n",
    "Rvm = N0*resultados_modelo[13,:]\n",
    "Dm = N0*resultados_modelo[14,:]\n",
    "Nwm = N0*resultados_modelo[15,:]\n",
    "NwVm = N0*resultados_modelo[16,:]\n"
   ]
  },
  {
   "cell_type": "markdown",
   "metadata": {},
   "source": [
    "# Plotando graficos"
   ]
  },
  {
   "cell_type": "code",
   "execution_count": 197,
   "metadata": {},
   "outputs": [
    {
     "data": {
      "text/plain": [
       "<matplotlib.collections.PathCollection at 0x15c59ec10>"
      ]
     },
     "execution_count": 197,
     "metadata": {},
     "output_type": "execute_result"
    },
    {
     "data": {
      "image/png": "[encoded data removed]",
      "text/plain": [
       "<Figure size 576x432 with 1 Axes>"
      ]
     },
     "metadata": {
      "needs_background": "light"
     },
     "output_type": "display_data"
    }
   ],
   "source": [
    "ts1=np.arange(192)\n",
    "fig, ax = pl.subplots(figsize=(8,6))\n",
    "\n",
    "ax.plot(ts1,  Hm, color='b',zorder=1, linewidth=2)\n",
    "ax.scatter(ts1, hospitalizados_dados[:192], color='g',zorder=1, linewidth=1)"
   ]
  }
 ],
 "metadata": {
  "kernelspec": {
   "display_name": "Python 3.9.12 64-bit",
   "language": "python",
   "name": "python3"
  },
  "language_info": {
   "codemirror_mode": {
    "name": "ipython",
    "version": 3
   },
   "file_extension": ".py",
   "mimetype": "text/x-python",
   "name": "python",
   "nbconvert_exporter": "python",
   "pygments_lexer": "ipython3",
   "version": "3.9.12"
  },
  "orig_nbformat": 4,
  "vscode": {
   "interpreter": {
    "hash": "aee8b7b246df8f9039afb4144a1f6fd8d2ca17a180786b69acc140d282b71a49"
   }
  }
 },
 "nbformat": 4,
 "nbformat_minor": 2
}
