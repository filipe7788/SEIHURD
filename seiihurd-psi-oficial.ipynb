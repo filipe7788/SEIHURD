{
 "cells": [
  {
   "cell_type": "markdown",
   "metadata": {},
   "source": [
    "# Importando bibliotecas"
   ]
  },
  {
   "cell_type": "code",
   "execution_count": 21,
   "metadata": {},
   "outputs": [],
   "source": [
    "import numpy as np\n",
    "import pandas as pd\n",
    "import matplotlib.pyplot as pl\n",
    "from scipy.integrate import solve_ivp\n",
    "import matplotlib.pyplot as pl\n",
    "import scipy.io"
   ]
  },
  {
   "cell_type": "markdown",
   "metadata": {},
   "source": [
    "# Importando Arquivos"
   ]
  },
  {
   "cell_type": "code",
   "execution_count": 22,
   "metadata": {},
   "outputs": [],
   "source": [
    "Dados = scipy.io.loadmat('dados/dadosAntigos.mat')\n",
    "\n",
    "Psi = scipy.io.loadmat('dados/Psi_Ba13set.mat')\n",
    "# Pega a lista de itens referentes aos psi do arquivo .mat \n",
    "# no terceiro index do array Psi\n",
    "Psi = list(Psi.values())[3]\n",
    "Dados = list(Dados.values())[3]\n"
   ]
  },
  {
   "cell_type": "markdown",
   "metadata": {},
   "source": [
    "# Definindo média móvel do PSI"
   ]
  },
  {
   "cell_type": "code",
   "execution_count": 23,
   "metadata": {},
   "outputs": [],
   "source": [
    "npd = len(Psi)\n",
    "Nfo = 8\n",
    "\n",
    "Psif = [[0]]*npd\n",
    "\n",
    "for k in range(1, npd):\n",
    "    if (k-Nfo) < 0 :\n",
    "        Psif[k] = 1/k*sum(Psi[0:k])\n",
    "    else:\n",
    "        Psif[k] = 1/Nfo*sum(Psi[k-Nfo:k])\n",
    "\n",
    "Psif.pop(0)\n",
    "Psif = np.concatenate(Psif).ravel().tolist()\n"
   ]
  },
  {
   "cell_type": "markdown",
   "metadata": {},
   "source": [
    "# Separando dados"
   ]
  },
  {
   "cell_type": "code",
   "execution_count": 24,
   "metadata": {},
   "outputs": [],
   "source": [
    "casos_dados = Dados[:,0]\n",
    "recuperados_dados = Dados[:,6]\n",
    "mortos_dados = Dados[:,4]\n",
    "hospitalizados_dados = Dados[:,1]\n",
    "uti_dados = Dados[:,2]\n",
    "vacinados_dados = Dados[:,7]\n",
    "\n",
    "data_in = '06/03/2020'\n",
    "\n",
    "novos_casos = np.diff(casos_dados)\n",
    "novos_mortos = np.diff(mortos_dados)\n",
    "\n",
    "inicio_da_vacinacao = 100\n"
   ]
  },
  {
   "cell_type": "markdown",
   "metadata": {},
   "source": [
    "# Definindo condicoes iniciais"
   ]
  },
  {
   "cell_type": "code",
   "execution_count": 25,
   "metadata": {},
   "outputs": [],
   "source": [
    "D0          = 0;\n",
    "N0          = 14930634;\n",
    "R0          = 0;\n",
    "H0          = 0;\n",
    "U0          = 0;\n",
    "V0          = 1000/N0;  \n",
    "Rv0         = 0; \n",
    "Is0         = 2.015439771376298e-06;\n",
    "Ia0         = 1.8028646508967777e-06;\n",
    "Iav0        = 1.8028646508967777e-06; \n",
    "Isv0        = 1.8028646508967777e-06; \n",
    "E0          = 1.7639153732952095e-06;\n",
    "Ev0         = 1.7639153732952095e-06;\n",
    "S0          = (1-Is0-Ia0-E0);\n",
    "Nw0         = 0;\n",
    "NwV0        = 0;\n",
    "\n",
    "condicoes_iniciais = [S0,E0,V0,Ev0,Ia0,Is0,Iav0,Isv0,H0,U0,R0,Rv0,D0,Nw0,NwV0]"
   ]
  },
  {
   "cell_type": "markdown",
   "metadata": {},
   "source": [
    "# Definindo modelo"
   ]
  },
  {
   "cell_type": "code",
   "execution_count": 26,
   "metadata": {},
   "outputs": [],
   "source": [
    "def seiihurd(t, y):\n",
    "    \n",
    "    N=1\n",
    "    psi=Psif[int(t)]\n",
    "\n",
    "    k = 1/4\n",
    "    gamma_a = 1/3.5\n",
    "    gamma_s = 1/4\n",
    "    gamma_h = 0.18\n",
    "    gamma_u = 0.13342706158133355\n",
    "    mi_u = 0.4\n",
    "    qsi = 0.53\n",
    "    h = 0.06\n",
    "    mi_h = 0.15\n",
    "    ome_h = 0.14\n",
    "    ome_u = 0.29\n",
    "    delta = 0.31\n",
    "    p = 0.2\n",
    "    \n",
    "    if t<20.178:\n",
    "        beta=2.1317\n",
    "    elif (t>=20.178-8) and (t < 72.94):\n",
    "        beta=1.7645\n",
    "    elif (t>=72.94) and (t < 148):\n",
    "        beta=1.1281\n",
    "    else:\n",
    "        beta=1;\n",
    "    \n",
    "    if t<100:\n",
    "        tau=0\n",
    "        delta_av = 0\n",
    "        delta_sv = 0\n",
    "        phi_e = 0\n",
    "        k_v=0\n",
    "        p_v = 0\n",
    "        gamma_av = 0\n",
    "        gamma_sv = 0\n",
    "        qsi_v = 0\n",
    "    else:\n",
    "        delta_av = 0.3090\n",
    "        delta_sv = 0.3090\n",
    "        phi_e = 0.8\n",
    "        tau=(6.6976e-05)*1.1\n",
    "        k_v=0.1\n",
    "        p_v = 0.1\n",
    "        gamma_av = 1/3.5\n",
    "        gamma_sv = 1/4\n",
    "        qsi_v = 0.53\n",
    "\n",
    "    S=y[0]\n",
    "    E=y[1]\n",
    "    V=y[2]\n",
    "    Ev=y[3]\n",
    "    Ia=y[4]\n",
    "    Is=y[5]\n",
    "    Iav=y[6]\n",
    "    Isv=y[7]\n",
    "    H=y[8]\n",
    "    U=y[9]\n",
    "    R=y[10]\n",
    "    Rv=y[11]\n",
    "    D=y[12]\n",
    "    Nw=y[13]\n",
    "    NwV=y[14]\n",
    "\n",
    "    \n",
    "    dSdt = -(1-psi)*beta*S*(Is+delta*Ia+delta_av*Iav+delta_sv*Isv)/N - tau*S\n",
    "    dEdt = (1-psi)*beta*S*(Is+delta*Ia+delta_av*Iav+delta_sv*Isv)/N - k*E\n",
    "    dVdt = tau*S - (1-psi)*beta*V*(Is+delta*Ia+delta_av*Iav+delta_sv*Isv)/N - phi_e*V\n",
    "    dEvdt = (1-psi)*beta*V*(Is+delta*Ia+delta_av*Iav+delta_sv*Isv)/N - k_v*Ev\n",
    "    dIadt = (1-p)*k*E - gamma_a*Ia\n",
    "    dIsdt = p*k*E - gamma_s*Is\n",
    "    dIavdt = (1-p_v)*k_v*Ev - gamma_av*Iav\n",
    "    dIsvdt = p_v*k_v*Ev - gamma_sv*Isv\n",
    "    dHdt = qsi_v*gamma_sv*Isv + h*qsi*gamma_s*Is + (1-mi_u+ome_u*mi_u)*gamma_u*U - gamma_h*H\n",
    "    dUdt = h*(1-qsi)*gamma_s*Is + ome_h*gamma_h*H - gamma_u*U\n",
    "    dRdt = gamma_a*Ia + (1-h)*gamma_s*Is + (1-mi_h)*(1-ome_h)*gamma_h*H\n",
    "    dRvdt = gamma_av*Iav + (1-qsi_v)*gamma_sv*Isv + phi_e*V\n",
    "    dDdt = (1-ome_h)*mi_h*gamma_h*H + (1-ome_u)*mi_u*gamma_u*U\n",
    "    dNwdt = p*k*E + p_v*k_v*Ev\n",
    "    dNwVdt = tau*S\n",
    "    \n",
    "    return [dSdt, dEdt,dVdt, dEvdt, dIadt, dIsdt, dIavdt, dIsvdt, dHdt, dUdt, dRdt, dRvdt, dDdt, dNwdt, dNwVdt]"
   ]
  },
  {
   "cell_type": "markdown",
   "metadata": {},
   "source": [
    "# Chamando modelo"
   ]
  },
  {
   "cell_type": "code",
   "execution_count": 27,
   "metadata": {},
   "outputs": [],
   "source": [
    "resultados = solve_ivp(seiihurd, [0,192], condicoes_iniciais, method='RK45', t_eval=np.arange(192))\n",
    "resultados_modelo = resultados.y\n",
    "\n",
    "Sm = N0*resultados_modelo[0,:]\n",
    "Em = N0*resultados_modelo[1,:]\n",
    "Vm = N0*resultados_modelo[2,:]\n",
    "Evm = N0*resultados_modelo[3,:]\n",
    "Iam = N0*resultados_modelo[4,:]\n",
    "Ism = N0*resultados_modelo[5,:]\n",
    "Iavm = N0*resultados_modelo[6,:]\n",
    "Isvm = N0*resultados_modelo[7,:]\n",
    "Hm = N0*resultados_modelo[8,:]\n",
    "Um = N0*resultados_modelo[9,:]\n",
    "Rm = N0*resultados_modelo[10,:]\n",
    "Rvm = N0*resultados_modelo[11,:]\n",
    "Dm = N0*resultados_modelo[12,:]\n",
    "Nwm = N0*resultados_modelo[13,:]\n",
    "NwVm = N0*resultados_modelo[14,:]"
   ]
  },
  {
   "cell_type": "markdown",
   "metadata": {},
   "source": [
    "# Plotando graficos"
   ]
  },
  {
   "cell_type": "markdown",
   "metadata": {},
   "source": [
    "### Hospitalizados"
   ]
  },
  {
   "cell_type": "code",
   "execution_count": 28,
   "metadata": {},
   "outputs": [
    {
     "data": {
      "text/plain": [
       "<matplotlib.collections.PathCollection at 0x15a7f89a0>"
      ]
     },
     "execution_count": 28,
     "metadata": {},
     "output_type": "execute_result"
    },
    {
     "data": {
      "image/png": "[encoded data removed]",
      "text/plain": [
       "<Figure size 576x432 with 1 Axes>"
      ]
     },
     "metadata": {
      "needs_background": "light"
     },
     "output_type": "display_data"
    }
   ],
   "source": [
    "ts1=np.arange(192)\n",
    "fig, ax = pl.subplots(figsize=(8,6))\n",
    "\n",
    "ax.plot(ts1,  Hm, color='b',zorder=1, linewidth=2)\n",
    "ax.scatter(ts1, hospitalizados_dados[:192], color='g',zorder=1, linewidth=1)"
   ]
  },
  {
   "cell_type": "markdown",
   "metadata": {},
   "source": [
    "### UTI"
   ]
  },
  {
   "cell_type": "code",
   "execution_count": 33,
   "metadata": {},
   "outputs": [
    {
     "data": {
      "text/plain": [
       "<matplotlib.collections.PathCollection at 0x15aa113d0>"
      ]
     },
     "execution_count": 33,
     "metadata": {},
     "output_type": "execute_result"
    },
    {
     "data": {
      "image/png": "[encoded data removed]",
      "text/plain": [
       "<Figure size 576x432 with 1 Axes>"
      ]
     },
     "metadata": {
      "needs_background": "light"
     },
     "output_type": "display_data"
    }
   ],
   "source": [
    "ts1=np.arange(192)\n",
    "fig, ax = pl.subplots(figsize=(8,6))\n",
    "\n",
    "ax.plot(ts1,  Um, color='b',zorder=1, linewidth=2)\n",
    "ax.scatter(ts1, uti_dados[:192], color='g',zorder=1, linewidth=1)"
   ]
  },
  {
   "cell_type": "markdown",
   "metadata": {},
   "source": [
    "### Casos Acumulados"
   ]
  },
  {
   "cell_type": "code",
   "execution_count": 30,
   "metadata": {},
   "outputs": [
    {
     "data": {
      "text/plain": [
       "<matplotlib.collections.PathCollection at 0x15a8da280>"
      ]
     },
     "execution_count": 30,
     "metadata": {},
     "output_type": "execute_result"
    },
    {
     "data": {
      "image/png": "[encoded data removed]",
      "text/plain": [
       "<Figure size 576x432 with 1 Axes>"
      ]
     },
     "metadata": {
      "needs_background": "light"
     },
     "output_type": "display_data"
    }
   ],
   "source": [
    "ts1=np.arange(191)\n",
    "fig, ax = pl.subplots(figsize=(8,6))\n",
    "\n",
    "Nwm_i = np.diff(Nwm)\n",
    "Nwm_i_dados = np.diff(casos_dados)\n",
    "\n",
    "ax.plot(ts1,  Nwm_i, color='b',zorder=1, linewidth=2)\n",
    "ax.scatter(ts1, Nwm_i_dados[:191], color='g',zorder=1, linewidth=1)"
   ]
  },
  {
   "cell_type": "markdown",
   "metadata": {},
   "source": [
    "### Mortos"
   ]
  },
  {
   "cell_type": "code",
   "execution_count": 31,
   "metadata": {},
   "outputs": [
    {
     "data": {
      "text/plain": [
       "<matplotlib.collections.PathCollection at 0x15a941310>"
      ]
     },
     "execution_count": 31,
     "metadata": {},
     "output_type": "execute_result"
    },
    {
     "data": {
      "image/png": "[encoded data removed]",
      "text/plain": [
       "<Figure size 576x432 with 1 Axes>"
      ]
     },
     "metadata": {
      "needs_background": "light"
     },
     "output_type": "display_data"
    }
   ],
   "source": [
    "ts1=np.arange(191)\n",
    "fig, ax = pl.subplots(figsize=(8,6))\n",
    "\n",
    "Nwm_d = np.diff(Dm)\n",
    "Nwm_d_dados = np.diff(mortos_dados)\n",
    "\n",
    "ax.plot(ts1,  Nwm_d, color='b',zorder=1, linewidth=2)\n",
    "ax.scatter(ts1, Nwm_d_dados[:191], color='g',zorder=1, linewidth=1)"
   ]
  },
  {
   "cell_type": "markdown",
   "metadata": {},
   "source": [
    "### Vacinados"
   ]
  },
  {
   "cell_type": "code",
   "execution_count": 32,
   "metadata": {},
   "outputs": [
    {
     "data": {
      "text/plain": [
       "<matplotlib.collections.PathCollection at 0x15a9a2fd0>"
      ]
     },
     "execution_count": 32,
     "metadata": {},
     "output_type": "execute_result"
    },
    {
     "data": {
      "image/png": "[encoded data removed]",
      "text/plain": [
       "<Figure size 576x432 with 1 Axes>"
      ]
     },
     "metadata": {
      "needs_background": "light"
     },
     "output_type": "display_data"
    }
   ],
   "source": [
    "ts1=np.arange(192)\n",
    "fig, ax = pl.subplots(figsize=(8,6))\n",
    "\n",
    "ax.plot(ts1,  NwVm, color='b',zorder=1, linewidth=2)\n",
    "ax.scatter(ts1, vacinados_dados[:192], color='g',zorder=1, linewidth=1)"
   ]
  }
 ],
 "metadata": {
  "kernelspec": {
   "display_name": "Python 3.9.12 64-bit",
   "language": "python",
   "name": "python3"
  },
  "language_info": {
   "codemirror_mode": {
    "name": "ipython",
    "version": 3
   },
   "file_extension": ".py",
   "mimetype": "text/x-python",
   "name": "python",
   "nbconvert_exporter": "python",
   "pygments_lexer": "ipython3",
   "version": "3.9.12"
  },
  "orig_nbformat": 4,
  "vscode": {
   "interpreter": {
    "hash": "aee8b7b246df8f9039afb4144a1f6fd8d2ca17a180786b69acc140d282b71a49"
   }
  }
 },
 "nbformat": 4,
 "nbformat_minor": 2
}
