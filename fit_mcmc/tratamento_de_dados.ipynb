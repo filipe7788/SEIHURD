{
 "cells": [
  {
   "cell_type": "code",
   "execution_count": 2,
   "metadata": {},
   "outputs": [],
   "source": [
    "import numpy as np\n",
    "import pandas as pd\n",
    "import datetime\n",
    "import csv  \n"
   ]
  },
  {
   "cell_type": "code",
   "execution_count": 3,
   "metadata": {},
   "outputs": [],
   "source": [
    "# puxando dado\n",
    "\n",
    "# Dados começam 06/03/2020\n",
    "# Vacinação começa 19/01/2022\n",
    "\n",
    "dados_desde_2020 = pd.read_csv ('../dados_usados/estado.csv')\n",
    "dados_de_mortos = dados_desde_2020['deaths'].fillna(0).values\n",
    "dados_de_casos = dados_desde_2020['cases'].fillna(0).values\n",
    "datas = dados_desde_2020[\"date\"].fillna(0).values\n",
    "\n",
    "\n",
    "dados_com_vacina = pd.read_csv ('../dados_usados/Dados_novos_BAHIA.csv')\n",
    "vacinados_acumulados = dados_com_vacina['Vacinados'].fillna(0).values\n",
    "\n",
    "Psi = pd.read_csv('../dados_usados/psi.csv')\n",
    "\n",
    "dados_hospitalizados = pd.read_excel('../dados_usados/hospita.xlsx', sheet_name=\"Hospitalizados\").fillna(0).values\n",
    "dados_hospitalizados_vacinados = pd.read_excel('../dados_usados/hospita.xlsx', sheet_name=\"Hospitalizados apos vacina\").fillna(0).values\n",
    "dados_infectados_vacinados = pd.read_excel('../dados_usados/mydata.xlsx', sheet_name=\"Infectados apos vacina\").fillna(0).values\n",
    "\n",
    "# dados_hospitalizados_vacinados = dados_hospitalizados_vacinados[:297]\n",
    "hospitalizados_com_datas = []\n",
    "hospitalizados_vacinados_com_datas = []\n",
    "\n",
    "infectados_vacinados_com_datas = []\n",
    "\n",
    "datas2 = []\n",
    "\n",
    "datas_hosp = pd.DataFrame(dados_hospitalizados) \n",
    "datas_hosp = datas_hosp.iloc[:, 1]\n",
    "\n",
    "casos_verificados = []\n",
    "mortes_verificadas = []\n",
    "hospitalizados_vacinados_com_datas = []\n",
    "\n",
    "\n",
    "for i in datas:\n",
    "    date_obj = datetime.datetime.strptime(i, '%Y-%m-%d')\n",
    "    datas2.append(date_obj)\n",
    "\n",
    "dados_com_vacina = pd.read_csv ('../dados_usados/Dados_novos_BAHIA.csv',  header = None).values\n",
    "\n",
    "datas_juntos = []\n",
    "\n",
    "for i in datas_hosp.values:\n",
    "    for index, j in enumerate(datas2):\n",
    "        if i == j:\n",
    "            datas_juntos.append(i)\n",
    "            casos_verificados.append(dados_de_casos[index])\n",
    "            mortes_verificadas.append(dados_de_mortos[index])\n",
    "\n",
    "\n",
    "for item in datas_hosp.values:\n",
    "    for j in dados_hospitalizados_vacinados:\n",
    "        if j[1] == item:\n",
    "            hospitalizados_vacinados_com_datas.append(j)\n",
    "\n",
    "for item in datas_hosp.values:\n",
    "    for j in dados_infectados_vacinados:\n",
    "        if j[1] == item:\n",
    "            infectados_vacinados_com_datas.append(j)\n",
    "\n",
    "vacinados_acumulados_com_datas = []\n",
    "dados_com_vacina = dados_com_vacina[1:,:]\n",
    "\n",
    "# dados_com_vacina[:,0]\n",
    "for item in datas_hosp.values:\n",
    "    for index, j in enumerate(dados_com_vacina):\n",
    "        if datetime.datetime.strptime(j[0], '%Y-%m-%d') == item:\n",
    "            vacinados_acumulados_com_datas.append(j)\n"
   ]
  },
  {
   "cell_type": "code",
   "execution_count": 4,
   "metadata": {},
   "outputs": [],
   "source": [
    "for i in range(322):\n",
    "    infectados_vacinados_com_datas.insert(0,0)"
   ]
  },
  {
   "cell_type": "code",
   "execution_count": 5,
   "metadata": {},
   "outputs": [
    {
     "name": "stdout",
     "output_type": "stream",
     "text": [
      "625\n",
      "625\n",
      "715\n",
      "381\n",
      "695\n",
      "334\n",
      "625\n"
     ]
    }
   ],
   "source": [
    "print(len(casos_verificados))\n",
    "print(len(mortes_verificadas))\n",
    "print(len(dados_hospitalizados))\n",
    "print(len(hospitalizados_vacinados_com_datas))\n",
    "print(len(infectados_vacinados_com_datas))\n",
    "print(len(vacinados_acumulados_com_datas))\n",
    "print(len(datas_juntos))"
   ]
  },
  {
   "cell_type": "code",
   "execution_count": 6,
   "metadata": {},
   "outputs": [
    {
     "name": "stdout",
     "output_type": "stream",
     "text": [
      "625\n"
     ]
    }
   ],
   "source": [
    "hospitalizados_filtrados = []\n",
    "\n",
    "for i in dados_hospitalizados:\n",
    "    for j in datas_juntos:\n",
    "        if i[1] == j:\n",
    "            hospitalizados_filtrados.append(i)\n",
    "\n",
    "print(len(hospitalizados_filtrados))"
   ]
  },
  {
   "cell_type": "code",
   "execution_count": 7,
   "metadata": {},
   "outputs": [
    {
     "data": {
      "text/plain": [
       "313"
      ]
     },
     "execution_count": 7,
     "metadata": {},
     "output_type": "execute_result"
    }
   ],
   "source": [
    "infectados_vacinados_filtrados = []\n",
    "\n",
    "for i in datas_juntos:\n",
    "    for j in dados_infectados_vacinados:\n",
    "        if i == j[1]:\n",
    "            infectados_vacinados_filtrados.append(j)\n",
    "\n",
    "len(infectados_vacinados_filtrados)"
   ]
  },
  {
   "cell_type": "code",
   "execution_count": 8,
   "metadata": {},
   "outputs": [
    {
     "data": {
      "text/plain": [
       "296"
      ]
     },
     "execution_count": 8,
     "metadata": {},
     "output_type": "execute_result"
    }
   ],
   "source": [
    "hosp_vacinados_filtrados = []\n",
    "\n",
    "for i in datas_juntos:\n",
    "    for j in dados_hospitalizados_vacinados:\n",
    "        if i == j[1]:\n",
    "            hosp_vacinados_filtrados.append(j)\n",
    "\n",
    "len(hosp_vacinados_filtrados)"
   ]
  },
  {
   "cell_type": "code",
   "execution_count": 9,
   "metadata": {},
   "outputs": [
    {
     "name": "stdout",
     "output_type": "stream",
     "text": [
      "329\n"
     ]
    }
   ],
   "source": [
    "count = 0\n",
    "for i in datas_juntos:\n",
    "    for j in hosp_vacinados_filtrados:\n",
    "        if i == j[1]:\n",
    "            count = count+1\n",
    "print(len(datas_juntos)- count) "
   ]
  },
  {
   "cell_type": "code",
   "execution_count": 10,
   "metadata": {},
   "outputs": [
    {
     "name": "stdout",
     "output_type": "stream",
     "text": [
      "[1 datetime.datetime(2021, 2, 4, 0, 0) 1 1]\n",
      "2021-02-04 00:00:00\n"
     ]
    }
   ],
   "source": [
    "print(hosp_vacinados_filtrados[0])\n",
    "# for i in datas_juntos[:328]:\n",
    "print(datas_juntos[325])"
   ]
  },
  {
   "cell_type": "code",
   "execution_count": 11,
   "metadata": {},
   "outputs": [],
   "source": [
    "for i in datas_juntos[:325]:\n",
    "    hosp_vacinados_filtrados.append((1, i, 0, 0))"
   ]
  },
  {
   "cell_type": "code",
   "execution_count": 12,
   "metadata": {},
   "outputs": [
    {
     "data": {
      "text/plain": [
       "635"
      ]
     },
     "execution_count": 12,
     "metadata": {},
     "output_type": "execute_result"
    }
   ],
   "source": [
    "len(datas2)"
   ]
  },
  {
   "cell_type": "code",
   "execution_count": 13,
   "metadata": {},
   "outputs": [
    {
     "name": "stdout",
     "output_type": "stream",
     "text": [
      "627\n"
     ]
    }
   ],
   "source": [
    "# infec vac\n",
    "window_size = 7\n",
    "  \n",
    "i = 0\n",
    "# Initialize an empty list to store moving averages\n",
    "infecvac = []\n",
    "  \n",
    "# Loop through the array to consider\n",
    "# every window of size 3\n",
    "while i < len(infectados_vacinados_filtrados) - window_size + 1:\n",
    "    \n",
    "    # Store elements from i to i+window_size\n",
    "    # in list to get the current window\n",
    "    window = infectados_vacinados_filtrados[i : i + window_size]\n",
    "    window = np.array(window)\n",
    "    window2 = window[:, 3]\n",
    "    # Calculate the average of current window\n",
    "    window_average = round(sum(window2) / window_size, 2)\n",
    "      \n",
    "    # Store the average of current\n",
    "    # window in moving average list\n",
    "    infecvac.append(window_average)\n",
    "      \n",
    "    # Shift window to right by one position\n",
    "    i += 1\n",
    "\n",
    "for i in datas2:\n",
    "    if i <= datetime.datetime.strptime('2021-01-19', '%Y-%m-%d'):\n",
    "        infecvac.insert(0, 0)\n",
    "print(len(infecvac))\n"
   ]
  },
  {
   "cell_type": "code",
   "execution_count": 14,
   "metadata": {},
   "outputs": [
    {
     "name": "stdout",
     "output_type": "stream",
     "text": [
      "695\n"
     ]
    }
   ],
   "source": [
    "# hosp vac\n",
    "window_size = 7\n",
    "  \n",
    "i = 0\n",
    "# Initialize an empty list to store moving averages\n",
    "hospvac = []\n",
    "  \n",
    "# Loop through the array to consider\n",
    "# every window of size 3\n",
    "while i < len(hospitalizados_vacinados_com_datas) - window_size + 1:\n",
    "    \n",
    "    # Store elements from i to i+window_size\n",
    "    # in list to get the current window\n",
    "    window = hospitalizados_vacinados_com_datas[i : i + window_size]\n",
    "    window = np.array(window)\n",
    "    window2 = window[:, 3]\n",
    "    # Calculate the average of current window\n",
    "    window_average = round(sum(window2) / window_size, 2)\n",
    "      \n",
    "    # Store the average of current\n",
    "    # window in moving average list\n",
    "    hospvac.append(window_average)\n",
    "      \n",
    "    # Shift window to right by one position\n",
    "    i += 1\n",
    "\n",
    "for i in datas2:\n",
    "    if i <= datetime.datetime.strptime('2021-01-19', '%Y-%m-%d'):\n",
    "        hospvac.insert(0, 0)\n",
    "print(len(hospvac))"
   ]
  },
  {
   "cell_type": "code",
   "execution_count": 15,
   "metadata": {},
   "outputs": [
    {
     "name": "stdout",
     "output_type": "stream",
     "text": [
      "619\n"
     ]
    }
   ],
   "source": [
    "# hosp\n",
    "window_size = 7\n",
    "  \n",
    "i = 0\n",
    "# Initialize an empty list to store moving averages\n",
    "hosp = []\n",
    "  \n",
    "# Loop through the array to consider\n",
    "# every window of size 3\n",
    "while i < len(hospitalizados_filtrados) - window_size + 1:\n",
    "    \n",
    "    # Store elements from i to i+window_size\n",
    "    # in list to get the current window\n",
    "    window = hospitalizados_filtrados[i : i + window_size]\n",
    "    window = np.array(window)\n",
    "    window2 = window[:, 3]\n",
    "    # Calculate the average of current window\n",
    "    window_average = round(sum(window2) / window_size, 2)\n",
    "      \n",
    "    # Store the average of current\n",
    "    # window in moving average list\n",
    "    hosp.append(window_average)\n",
    "      \n",
    "    # Shift window to right by one position\n",
    "    i += 1\n",
    "\n",
    "# print(len(hosp))\n",
    "\n",
    "print(len(hosp))"
   ]
  },
  {
   "cell_type": "code",
   "execution_count": 16,
   "metadata": {},
   "outputs": [
    {
     "name": "stdout",
     "output_type": "stream",
     "text": [
      "619\n"
     ]
    }
   ],
   "source": [
    "# casos\n",
    "\n",
    "window_size = 7\n",
    "  \n",
    "i = 0\n",
    "# Initialize an empty list to store moving averages\n",
    "casos_sei_la = []\n",
    "  \n",
    "# Loop through the array to consider\n",
    "# every window of size 3\n",
    "while i < len(casos_verificados) - window_size + 1:\n",
    "    \n",
    "    # Store elements from i to i+window_size\n",
    "    # in list to get the current window\n",
    "    window = casos_verificados[i : i + window_size]\n",
    "\n",
    "    # Calculate the average of current window\n",
    "    window_average = round(sum(window) / window_size, 2)\n",
    "      \n",
    "    # Store the average of current\n",
    "    # window in moving average list\n",
    "    casos_sei_la.append(window_average)\n",
    "      \n",
    "    # Shift window to right by one position\n",
    "    i += 1\n",
    "\n",
    "print(len(casos_sei_la))\n"
   ]
  },
  {
   "cell_type": "code",
   "execution_count": 17,
   "metadata": {},
   "outputs": [
    {
     "name": "stdout",
     "output_type": "stream",
     "text": [
      "619\n"
     ]
    }
   ],
   "source": [
    "#mortes\n",
    "\n",
    "window_size = 7\n",
    "  \n",
    "i = 0\n",
    "# Initialize an empty list to store moving averages\n",
    "mortes_sei_la = []\n",
    "  \n",
    "# Loop through the array to consider\n",
    "# every window of size 3\n",
    "while i < len(mortes_verificadas) - window_size + 1:\n",
    "    \n",
    "    # Store elements from i to i+window_size\n",
    "    # in list to get the current window\n",
    "    window = mortes_verificadas[i : i + window_size]\n",
    "\n",
    "    # Calculate the average of current window\n",
    "    window_average = round(sum(window) / window_size, 2)\n",
    "      \n",
    "    # Store the average of current\n",
    "    # window in moving average list\n",
    "    mortes_sei_la.append(window_average)\n",
    "      \n",
    "    # Shift window to right by one position\n",
    "    i += 1\n",
    "\n",
    "print(len(mortes_sei_la))"
   ]
  },
  {
   "cell_type": "code",
   "execution_count": 18,
   "metadata": {},
   "outputs": [
    {
     "name": "stdout",
     "output_type": "stream",
     "text": [
      "629\n"
     ]
    }
   ],
   "source": [
    "#mortes\n",
    "\n",
    "window_size = 7\n",
    "  \n",
    "i = 0\n",
    "# Initialize an empty list to store moving averages\n",
    "vacinados_sei_la = []\n",
    "  \n",
    "# Loop through the array to consider\n",
    "# every window of size 3\n",
    "while i < len(vacinados_acumulados_com_datas) - window_size + 1:\n",
    "    \n",
    "    # Store elements from i to i+window_size\n",
    "    # in list to get the current window\n",
    "    window = vacinados_acumulados_com_datas[i : i + window_size]\n",
    "    window = np.array(window)[:, -1]\n",
    "    window = list(map(float, window))\n",
    "    # Calculate the average of current window\n",
    "    window_average = round(sum(window) / window_size, 2)\n",
    "      \n",
    "    # Store the average of current\n",
    "    # window in moving average list\n",
    "    vacinados_sei_la.append(window_average)\n",
    "      \n",
    "    # Shift window to right by one position\n",
    "    i += 1\n",
    "for i in datas2:\n",
    "    if i < datetime.datetime.strptime('2021-01-01', '%Y-%m-%d'):\n",
    "        vacinados_sei_la.insert(0, 0)\n",
    "print(len(vacinados_sei_la))"
   ]
  },
  {
   "cell_type": "code",
   "execution_count": 19,
   "metadata": {},
   "outputs": [],
   "source": [
    "casos_sei_la_aux =  np.copy(casos_sei_la)\n",
    "# Diffs menores que 0 serão substituidos pela repetição do valor anterior, tornando todo valor igual ou maior que o anterior\n",
    "for i in range(1,len(casos_sei_la_aux)):\n",
    "    diff = casos_sei_la_aux[i] - casos_sei_la_aux[i-1]\n",
    "    if diff < 0:\n",
    "        casos_sei_la_aux[i-1] = casos_sei_la_aux[i]\n",
    "casos_sei_la_aux = casos_sei_la_aux.tolist()\n",
    "casos_sei_la_aux.insert(0, 0)"
   ]
  },
  {
   "cell_type": "code",
   "execution_count": 20,
   "metadata": {},
   "outputs": [],
   "source": [
    "hosp_aux =  np.copy(hosp)\n",
    "# Diffs menores que 0 serão substituidos pela repetição do valor anterior, tornando todo valor igual ou maior que o anterior\n",
    "for i in range(1,len(hosp_aux)):\n",
    "    diff = hosp_aux[i] - hosp_aux[i-1]\n",
    "    if diff < 0:\n",
    "        hosp_aux[i-1] = hosp_aux[i]\n",
    "\n",
    "hosp_aux = hosp_aux.tolist()\n",
    "hosp_aux.insert(0, 0)"
   ]
  },
  {
   "cell_type": "code",
   "execution_count": 21,
   "metadata": {},
   "outputs": [],
   "source": [
    "hospvac_aux =  np.copy(hospvac)\n",
    "# Diffs menores que 0 serão substituidos pela repetição do valor anterior, tornando todo valor igual ou maior que o anterior\n",
    "for i in range(1,len(hospvac_aux)):\n",
    "    diff = hospvac_aux[i] - hospvac_aux[i-1]\n",
    "    if diff < 0:\n",
    "        hospvac_aux[i-1] = hospvac_aux[i]\n",
    "hospvac_aux = hospvac_aux.tolist()\n",
    "hospvac_aux.insert(0, 0)"
   ]
  },
  {
   "cell_type": "code",
   "execution_count": 22,
   "metadata": {},
   "outputs": [],
   "source": [
    "infecvac_aux =  np.copy(infecvac)\n",
    "# Diffs menores que 0 serão substituidos pela repetição do valor anterior, tornando todo valor igual ou maior que o anterior\n",
    "for i in range(1,len(infecvac_aux)):\n",
    "    diff = infecvac_aux[i] - infecvac_aux[i-1]\n",
    "    if diff < 0:\n",
    "        infecvac_aux[i-1] = infecvac_aux[i]\n",
    "\n",
    "infecvac_aux = infecvac_aux.tolist()\n",
    "infecvac_aux.insert(0, 0)"
   ]
  },
  {
   "cell_type": "code",
   "execution_count": 23,
   "metadata": {},
   "outputs": [],
   "source": [
    "vacinados_sei_la_aux =  np.copy(vacinados_sei_la)\n",
    "# Diffs menores que 0 serão substituidos pela repetição do valor anterior, tornando todo valor igual ou maior que o anterior\n",
    "for i in range(1,len(vacinados_sei_la_aux)):\n",
    "    diff = vacinados_sei_la_aux[i] - vacinados_sei_la_aux[i-1]\n",
    "    if diff < 0:\n",
    "        vacinados_sei_la_aux[i-1] = vacinados_sei_la_aux[i]\n",
    "\n",
    "vacinados_sei_la_aux = vacinados_sei_la_aux.tolist()\n",
    "vacinados_sei_la_aux.insert(0, 0)"
   ]
  },
  {
   "cell_type": "code",
   "execution_count": 31,
   "metadata": {},
   "outputs": [],
   "source": [
    "# print(np.diff(casos_sei_la_aux))\n",
    "for i in np.diff(vacinados_sei_la_aux):\n",
    "    if i < 0:\n",
    "        print(i)"
   ]
  },
  {
   "cell_type": "code",
   "execution_count": 25,
   "metadata": {},
   "outputs": [],
   "source": [
    "dfgeral = pd.DataFrame(columns=['datas','casos','mortes','hospitalizados','hospitalizados_vacinados','infectados_vacinados', \"vacinados\"])\n",
    "for index in range(0, 614):\n",
    "    new_row = {\"datas\": datas2[index], \"casos\":casos_sei_la_aux[index], \"mortes\":mortes_sei_la[index], \"hospitalizados\":hosp_aux[index], \"hospitalizados_vacinados\":hospvac_aux[index], \"infectados_vacinados\":infecvac_aux[index], \"vacinados\":vacinados_sei_la_aux[index]}\n",
    "    dfgeral.loc[len(dfgeral)] = new_row\n",
    "dfgeral.to_csv(\"dados\")"
   ]
  }
 ],
 "metadata": {
  "kernelspec": {
   "display_name": "Python 3",
   "language": "python",
   "name": "python3"
  },
  "language_info": {
   "codemirror_mode": {
    "name": "ipython",
    "version": 3
   },
   "file_extension": ".py",
   "mimetype": "text/x-python",
   "name": "python",
   "nbconvert_exporter": "python",
   "pygments_lexer": "ipython3",
   "version": "3.8.10"
  },
  "orig_nbformat": 4
 },
 "nbformat": 4,
 "nbformat_minor": 2
}
