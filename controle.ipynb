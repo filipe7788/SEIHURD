{
 "cells": [
  {
   "cell_type": "code",
   "execution_count": 192,
   "metadata": {},
   "outputs": [],
   "source": [
    "import numpy as np\n",
    "import pandas as pd\n",
    "import matplotlib.pyplot as pl\n",
    "from scipy.integrate import solve_ivp\n",
    "from datetime import datetime\n",
    "import scipy.io\n"
   ]
  },
  {
   "cell_type": "code",
   "execution_count": 193,
   "metadata": {},
   "outputs": [],
   "source": [
    "read_file = pd.read_csv ('Dados_novos_BAHIA.csv')\n",
    "\n",
    "Psi = scipy.io.loadmat('Psi_Ba13set.mat')\n",
    "# get psy second index\n",
    "Psi = list(Psi.values())[3]\n",
    "flat_Psi = [x for xs in Psi for x in xs]\n",
    "npd = len(Psi)\n",
    "Nfo = 8\n",
    "for k in range(1, npd):\n",
    "    if (k-Nfo) < 0:\n",
    "        flat_Psi[k] = 1/k*sum(Psi[1:k])\n",
    "    else:\n",
    "        flat_Psi[k] = 1/Nfo*sum(Psi[k-Nfo+1:k])\n",
    "\n",
    "firstTwo = flat_Psi[:2]\n",
    "rest = flat_Psi[2:]\n",
    "\n",
    "flat_Psi = firstTwo + [x for xs in rest for x in xs]"
   ]
  },
  {
   "cell_type": "code",
   "execution_count": 194,
   "metadata": {},
   "outputs": [],
   "source": [
    "Data = read_file['datetime']\n",
    "# parse data to datetime\n",
    "Data = [datetime.strptime(x, '%Y-%m-%d') for x in Data]\n",
    "\n",
    "CasosAcumuladosDados = read_file['Casos acumulados'].fillna(0)\n",
    "CasosAcumuladosDados = CasosAcumuladosDados/14930634\n",
    "# print(CasosAcumuladosDados.to_string())\n",
    "\n",
    "RecuperadosDados = read_file['Recuperados'].fillna(0)\n",
    "RecuperadosDados = RecuperadosDados/14930634\n",
    "# print(RecuperadosDados.to_string())\n",
    "\n",
    "MortosDados = read_file['Mortos'].fillna(0)\n",
    "MortosDados = MortosDados/14930634\n",
    "# print(MortosDados.to_string())\n",
    "\n",
    "HospitalizadosDados = read_file['Hospitalizados'].fillna(0)\n",
    "HospitalizadosDados = HospitalizadosDados/14930634\n",
    "# print(HospitalizadosDados.to_string())\n",
    "\n",
    "UTIDados = read_file['UTI'].fillna(0)\n",
    "UTIDados = UTIDados/14930634\n",
    "# print(UTIDados.to_string())\n",
    "\n",
    "VacinadosDados = read_file['Vacinados'].fillna(0)\n",
    "VacinadosDados = VacinadosDados/14930634\n",
    "# print(VacinadosDados.to_string())"
   ]
  },
  {
   "cell_type": "code",
   "execution_count": 195,
   "metadata": {},
   "outputs": [],
   "source": [
    "def F(t, y, flat_Psi):\n",
    "    psi=flat_Psi[int(t)]\n",
    "\n",
    "    k = 1/4\n",
    "    gamma_a = 1/3.5\n",
    "    gamma_s = 1/4\n",
    "    gamma_h = 0.18\n",
    "    gamma_u = 0.13342706158133355\n",
    "    mi_u = 0.4\n",
    "    qsi = 0.53\n",
    "    h = 0.06\n",
    "    h_v=0\n",
    "    mi_h = 0.15\n",
    "    ome_h = 0.14\n",
    "    ome_u = 0.29\n",
    "    delta = 0.31\n",
    "    p = 0.2\n",
    "\n",
    "\n",
    "\n",
    "    if t<20.178:\n",
    "        beta=2.1317;    \n",
    "    elif (t>=28.178-8) and (t< 72.94):\n",
    "        beta=1.7645;    \n",
    "    elif (t>=72.94) and (t< 148):\n",
    "        beta=1.1281\n",
    "    else:\n",
    "        beta=1\n",
    "\n",
    "    # tau is the rate of vaccination\n",
    "    # tau = VacinadosDados.diff().fillna(0)\n",
    "\n",
    "    beta_v = beta/2\n",
    "\n",
    "    if t<19:\n",
    "        tau=0;\n",
    "        delta_av = 0;\n",
    "        delta_sv = 0;\n",
    "        phi_e = 0;\n",
    "        k_v=0;\n",
    "        p_v = 0;\n",
    "        gamma_av = 0;\n",
    "        gamma_sv = 0;\n",
    "        gamma_vu=0;\n",
    "        qsi_v = 0 ;\n",
    "        eps=0;\n",
    "        mi_vh=0;\n",
    "        mi_vu=0;\n",
    "        gamma_vh=0; \n",
    "        gamma_vh=0.36;\n",
    "    else:\n",
    "        delta_av = 0.31;\n",
    "        delta_sv = 0.31;\n",
    "        phi_e = 0.07;\n",
    "        k_v=1/3;\n",
    "        p_v = 0.1;\n",
    "        gamma_av = 1/3.5;\n",
    "        gamma_sv = 1/4;\n",
    "        gamma_vu=0.26;\n",
    "        qsi_v = 0.99;\n",
    "        eps=0.7;\n",
    "        mi_vh=0.03;\n",
    "        mi_vu=0.08;\n",
    "        gamma_vh=0.36;\n",
    "\n",
    "    tau = VacinadosDados.diff().fillna(0)[int(t)]\n",
    "    N = 14930634\n",
    "    S=y[0]\n",
    "    E=y[1]\n",
    "    Sv=y[2]\n",
    "    Ev=y[3]\n",
    "    Ia=y[4]\n",
    "    Is=y[5]\n",
    "    Iav=y[6]\n",
    "    Isv=y[7]\n",
    "    H=y[8]\n",
    "    Hv=y[9]\n",
    "    U=y[10]\n",
    "    Uv=y[11]\n",
    "    R=y[12]\n",
    "    Rv=y[13]\n",
    "    D=y[14]\n",
    "    Nw=y[15]\n",
    "    NwV=y[16]\n",
    "    \n",
    "    dSdt = -(1-psi)*beta*S*(Is+delta*Ia+delta_av*Iav+delta_sv*Isv)/N - tau;\n",
    "    dEdt = (1-psi)*beta*S*(Is+delta*Ia+delta_av*Iav+delta_sv*Isv)/N - k*E;\n",
    "    dSvdt = tau - (1-psi)*beta_v*Sv*(Is+delta*Ia+delta_av*Iav+delta_sv*Isv)/N - phi_e*eps*Sv;\n",
    "    dEvdt = (1-psi)*beta_v*Sv*(Is+delta*Ia+delta_av*Iav+delta_sv*Isv)/N - k_v*Ev;\n",
    "    dIadt = (1-p)*k*E - gamma_a*Ia;\n",
    "    dIsdt = p*k*E - gamma_s*Is;\n",
    "    dIavdt = (1-p_v)*k_v*Ev - gamma_av*Iav;\n",
    "    dIsvdt = p_v*k_v*Ev - gamma_sv*Isv;\n",
    "    dHdt = h*qsi*gamma_s*Is + (1-mi_u+ome_u*mi_u)*gamma_u*U - gamma_h*H;\n",
    "    dHvdt = h_v*qsi_v*gamma_sv*Isv + (1-mi_vu+ome_u*mi_vu)*gamma_vu*Uv - gamma_vu*Hv;\n",
    "    dUdt = h*(1-qsi)*gamma_s*Is + ome_h*gamma_h*H - gamma_u*U;\n",
    "    dUvdt = h_v*(1-qsi_v)*gamma_sv*Isv + ome_h*gamma_h*Hv - gamma_u*Uv;\n",
    "    dRdt = gamma_a*Ia + (1-h)*gamma_s*Is + (1-mi_h)*(1-ome_h)*gamma_h*H - phi_e*eps*Sv;\n",
    "    dRvdt = gamma_av*Iav + (1-h)*gamma_sv*Isv + (1-mi_vh)*(1-ome_h)*(gamma_vh*Hv);\n",
    "    dDdt = (1-ome_h)*(mi_h*gamma_h*H +mi_vh*gamma_vh*Hv) + (1-ome_h)*(mi_u*gamma_u*U+mi_vu*gamma_vu*Uv);\n",
    "    dNwdt = p*k*E + p_v*k_v*Ev;\n",
    "    dNwVdt = tau;\n",
    "    \n",
    "    return [dSdt, dEdt, dSvdt, dEvdt, dIadt, dIsdt, dIavdt, dIsvdt, dHdt, dHvdt, dUdt, dUvdt, dRdt, dRvdt, dDdt, dNwdt, dNwVdt]\n",
    "\n",
    "seiihurd = lambda t, s: F(t, s, flat_Psi)\n"
   ]
  },
  {
   "cell_type": "code",
   "execution_count": 196,
   "metadata": {},
   "outputs": [],
   "source": [
    "D0          = 9159/14930634\n",
    "N0          = 1\n",
    "R0          = 451240/14930634\n",
    "H0          = 477/14930634\n",
    "HV0         = 0\n",
    "U0          = 737/14930634\n",
    "UV0         = 0\n",
    "V0          = 0\n",
    "Rv0         = 0\n",
    "Is0         = (494684 - 451240)/14930634\n",
    "Ia0         = Is0*0.9/14930634\n",
    "Iav0        = 0\n",
    "Isv0        = 0\n",
    "E0          = (518955 - 494684)/14930634\n",
    "Ev0         = 0\n",
    "S0          = (N0-Is0-Ia0-E0)/14930634\n",
    "Nw0         = 0\n",
    "NwV0        = 0\n",
    "Model_0     = [S0,E0,V0,Ev0,Ia0,Is0,Iav0,Isv0,H0,HV0,U0,UV0,R0,Rv0,D0,Nw0,NwV0]\n",
    "ts0=np.arange(148)\n",
    "sol = solve_ivp(seiihurd, [0,148], Model_0, vectorized=False, max_step=1000000, t_eval=ts0)"
   ]
  },
  {
   "cell_type": "markdown",
   "metadata": {},
   "source": []
  },
  {
   "cell_type": "code",
   "execution_count": 197,
   "metadata": {},
   "outputs": [
    {
     "data": {
      "text/plain": [
       "[<matplotlib.lines.Line2D at 0x1a487cc3970>]"
      ]
     },
     "execution_count": 197,
     "metadata": {},
     "output_type": "execute_result"
    },
    {
     "data": {
      "image/png": "[encoded data removed]",
      "text/plain": [
       "<Figure size 864x576 with 1 Axes>"
      ]
     },
     "metadata": {
      "needs_background": "light"
     },
     "output_type": "display_data"
    }
   ],
   "source": [
    "casos = sol.y[-2]\n",
    "casosDiff = casos[:147]\n",
    "# plot the model\n",
    "ts1=np.arange(148)\n",
    "fig, ax = pl.subplots(figsize=(12,8))\n",
    "sintomaticos_curva =  sol.y[5]+ sol.y[7]\n",
    "\n",
    "ax.plot(ts1, sintomaticos_curva, color='r',zorder=1, linewidth=5)\n",
    "# ax.scatter(ts1, CasosAcumuladosDados[:147], color='g',zorder=1, linewidth=5)\n",
    "\n",
    "# VERMELHO É O MODELO E VERDE É O DADO"
   ]
  },
  {
   "cell_type": "code",
   "execution_count": null,
   "metadata": {},
   "outputs": [],
   "source": []
  }
 ],
 "metadata": {
  "kernelspec": {
   "display_name": "Python 3.9.12 64-bit",
   "language": "python",
   "name": "python3"
  },
  "language_info": {
   "codemirror_mode": {
    "name": "ipython",
    "version": 3
   },
   "file_extension": ".py",
   "mimetype": "text/x-python",
   "name": "python",
   "nbconvert_exporter": "python",
   "pygments_lexer": "ipython3",
   "version": "3.10.3"
  },
  "vscode": {
   "interpreter": {
    "hash": "aee8b7b246df8f9039afb4144a1f6fd8d2ca17a180786b69acc140d282b71a49"
   }
  }
 },
 "nbformat": 4,
 "nbformat_minor": 4
}
